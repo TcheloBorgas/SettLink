{
  "cells": [
    {
      "cell_type": "code",
      "execution_count": null,
      "metadata": {
        "id": "06r-vV2QIn0c"
      },
      "outputs": [],
      "source": [
        "#!pip install python-docx, aspose-words, PyPDF2\n"
      ]
    },
    {
      "cell_type": "code",
      "execution_count": null,
      "metadata": {
        "id": "pg4OkSBGIn0d"
      },
      "outputs": [],
      "source": [
        "#━━━━━━━━━❮Bibliotecas❯━━━━━━━━━\n",
        "import pandas as pd\n",
        "import matplotlib.pyplot as plt\n",
        "import numpy as np\n",
        "import tensorflow as tf\n",
        "import seaborn as sns\n",
        "import datetime\n",
        "import smtplib\n",
        "import aspose.words as aw\n",
        "import time\n",
        "import sys\n",
        "import os\n",
        "import joblib\n",
        "import json\n",
        "import re\n",
        "#━━━━━━━━━━━━━━━━━━━━━━━━━━━━━━━\n",
        "from sklearn.preprocessing import MinMaxScaler, LabelEncoder\n",
        "from sklearn.model_selection import train_test_split\n",
        "from sklearn.metrics import confusion_matrix, classification_report\n",
        "from tensorflow import keras\n",
        "from tensorflow.keras.models import Sequential\n",
        "from tensorflow.keras.layers import Activation, Dense\n",
        "from tensorflow.keras.optimizers import Adam\n",
        "from tensorflow.keras.metrics import categorical_crossentropy\n",
        "from sklearn.ensemble import RandomForestClassifier\n",
        "from sklearn.model_selection import train_test_split\n",
        "from flask import Flask, request, render_template\n",
        "#━━━━━━━━━━━━━━━━━━━━━━━━━━━━━━━\n",
        "from email.mime.multipart import MIMEMultipart\n",
        "from email.mime.text import MIMEText\n",
        "from email.mime.base import MIMEBase\n",
        "from email import encoders\n",
        "from mimetypes import add_type\n",
        "from docx import Document\n",
        "from PyPDF2 import PdfFileWriter, PdfFileReader\n",
        "from google.colab import files\n",
        "#━━━━━━━━━━━━━━❮◆❯━━━━━━━━━━━━━━"
      ]
    },
    {
      "cell_type": "code",
      "execution_count": null,
      "metadata": {
        "colab": {
          "base_uri": "https://localhost:8080/"
        },
        "id": "myn_pgjNKg8z",
        "outputId": "ff4d21f8-b195-4fe8-b9f9-dc3bd1469fde"
      },
      "outputs": [
        {
          "output_type": "stream",
          "name": "stdout",
          "text": [
            "Digite o email do remetente: pythonmhb@gmail.com\n",
            "\n",
            "O email está correto? [S/N]s\n",
            "Email Verificado com Sucesso\n",
            "pythonmhb@gmail.com\n"
          ]
        }
      ],
      "source": [
        "#━━━━━━━━━❮Verificação de email❯━━━━━━━━━\n",
        "regex = '^[a-z0-9]+[\\._]?[a-z0-9]+[@]\\w+[.]\\w{2,3}$'\n",
        "\n",
        "while True:\n",
        "    email =input('Digite o email do remetente: ')\n",
        "    print('')\n",
        "    \n",
        "    cont = input('O email está correto? [S/N]').upper()\n",
        "    if cont =='S':\n",
        "        break\n",
        "    \n",
        "    \n",
        "def check(email):  \n",
        "    if(re.search(regex,email)):  \n",
        "        print(\"Email Verificado com Sucesso\")  \n",
        "          \n",
        "    else:  \n",
        "        print(\"Email Invalido\")   \n",
        "\n",
        "check(email)\n",
        "print(email)\n",
        "\n"
      ]
    },
    {
      "cell_type": "code",
      "execution_count": null,
      "metadata": {
        "colab": {
          "base_uri": "https://localhost:8080/",
          "height": 386
        },
        "id": "z6qq0EyQIn0e",
        "outputId": "063277e6-1854-4027-9b19-305b470f9e57"
      },
      "outputs": [
        {
          "output_type": "execute_result",
          "data": {
            "text/plain": [
              "   customerID  gender  SeniorCitizen Partner Dependents  tenure PhoneService  \\\n",
              "0  7590-VHVEG  Female              0     Yes         No       1           No   \n",
              "1  5575-GNVDE    Male              0      No         No      34          Yes   \n",
              "2  3668-QPYBK    Male              0      No         No       2          Yes   \n",
              "3  7795-CFOCW    Male              0      No         No      45           No   \n",
              "4  9237-HQITU  Female              0      No         No       2          Yes   \n",
              "\n",
              "      MultipleLines InternetService OnlineSecurity  ... DeviceProtection  \\\n",
              "0  No phone service             DSL             No  ...               No   \n",
              "1                No             DSL            Yes  ...              Yes   \n",
              "2                No             DSL            Yes  ...               No   \n",
              "3  No phone service             DSL            Yes  ...              Yes   \n",
              "4                No     Fiber optic             No  ...               No   \n",
              "\n",
              "  TechSupport StreamingTV StreamingMovies        Contract PaperlessBilling  \\\n",
              "0          No          No              No  Month-to-month              Yes   \n",
              "1          No          No              No        One year               No   \n",
              "2          No          No              No  Month-to-month              Yes   \n",
              "3         Yes          No              No        One year               No   \n",
              "4          No          No              No  Month-to-month              Yes   \n",
              "\n",
              "               PaymentMethod MonthlyCharges  TotalCharges Churn  \n",
              "0           Electronic check          29.85         29.85    No  \n",
              "1               Mailed check          56.95        1889.5    No  \n",
              "2               Mailed check          53.85        108.15   Yes  \n",
              "3  Bank transfer (automatic)          42.30       1840.75    No  \n",
              "4           Electronic check          70.70        151.65   Yes  \n",
              "\n",
              "[5 rows x 21 columns]"
            ],
            "text/html": [
              "\n",
              "  <div id=\"df-228df4ae-98d2-4149-85eb-c4dea2fa04d3\">\n",
              "    <div class=\"colab-df-container\">\n",
              "      <div>\n",
              "<style scoped>\n",
              "    .dataframe tbody tr th:only-of-type {\n",
              "        vertical-align: middle;\n",
              "    }\n",
              "\n",
              "    .dataframe tbody tr th {\n",
              "        vertical-align: top;\n",
              "    }\n",
              "\n",
              "    .dataframe thead th {\n",
              "        text-align: right;\n",
              "    }\n",
              "</style>\n",
              "<table border=\"1\" class=\"dataframe\">\n",
              "  <thead>\n",
              "    <tr style=\"text-align: right;\">\n",
              "      <th></th>\n",
              "      <th>customerID</th>\n",
              "      <th>gender</th>\n",
              "      <th>SeniorCitizen</th>\n",
              "      <th>Partner</th>\n",
              "      <th>Dependents</th>\n",
              "      <th>tenure</th>\n",
              "      <th>PhoneService</th>\n",
              "      <th>MultipleLines</th>\n",
              "      <th>InternetService</th>\n",
              "      <th>OnlineSecurity</th>\n",
              "      <th>...</th>\n",
              "      <th>DeviceProtection</th>\n",
              "      <th>TechSupport</th>\n",
              "      <th>StreamingTV</th>\n",
              "      <th>StreamingMovies</th>\n",
              "      <th>Contract</th>\n",
              "      <th>PaperlessBilling</th>\n",
              "      <th>PaymentMethod</th>\n",
              "      <th>MonthlyCharges</th>\n",
              "      <th>TotalCharges</th>\n",
              "      <th>Churn</th>\n",
              "    </tr>\n",
              "  </thead>\n",
              "  <tbody>\n",
              "    <tr>\n",
              "      <th>0</th>\n",
              "      <td>7590-VHVEG</td>\n",
              "      <td>Female</td>\n",
              "      <td>0</td>\n",
              "      <td>Yes</td>\n",
              "      <td>No</td>\n",
              "      <td>1</td>\n",
              "      <td>No</td>\n",
              "      <td>No phone service</td>\n",
              "      <td>DSL</td>\n",
              "      <td>No</td>\n",
              "      <td>...</td>\n",
              "      <td>No</td>\n",
              "      <td>No</td>\n",
              "      <td>No</td>\n",
              "      <td>No</td>\n",
              "      <td>Month-to-month</td>\n",
              "      <td>Yes</td>\n",
              "      <td>Electronic check</td>\n",
              "      <td>29.85</td>\n",
              "      <td>29.85</td>\n",
              "      <td>No</td>\n",
              "    </tr>\n",
              "    <tr>\n",
              "      <th>1</th>\n",
              "      <td>5575-GNVDE</td>\n",
              "      <td>Male</td>\n",
              "      <td>0</td>\n",
              "      <td>No</td>\n",
              "      <td>No</td>\n",
              "      <td>34</td>\n",
              "      <td>Yes</td>\n",
              "      <td>No</td>\n",
              "      <td>DSL</td>\n",
              "      <td>Yes</td>\n",
              "      <td>...</td>\n",
              "      <td>Yes</td>\n",
              "      <td>No</td>\n",
              "      <td>No</td>\n",
              "      <td>No</td>\n",
              "      <td>One year</td>\n",
              "      <td>No</td>\n",
              "      <td>Mailed check</td>\n",
              "      <td>56.95</td>\n",
              "      <td>1889.5</td>\n",
              "      <td>No</td>\n",
              "    </tr>\n",
              "    <tr>\n",
              "      <th>2</th>\n",
              "      <td>3668-QPYBK</td>\n",
              "      <td>Male</td>\n",
              "      <td>0</td>\n",
              "      <td>No</td>\n",
              "      <td>No</td>\n",
              "      <td>2</td>\n",
              "      <td>Yes</td>\n",
              "      <td>No</td>\n",
              "      <td>DSL</td>\n",
              "      <td>Yes</td>\n",
              "      <td>...</td>\n",
              "      <td>No</td>\n",
              "      <td>No</td>\n",
              "      <td>No</td>\n",
              "      <td>No</td>\n",
              "      <td>Month-to-month</td>\n",
              "      <td>Yes</td>\n",
              "      <td>Mailed check</td>\n",
              "      <td>53.85</td>\n",
              "      <td>108.15</td>\n",
              "      <td>Yes</td>\n",
              "    </tr>\n",
              "    <tr>\n",
              "      <th>3</th>\n",
              "      <td>7795-CFOCW</td>\n",
              "      <td>Male</td>\n",
              "      <td>0</td>\n",
              "      <td>No</td>\n",
              "      <td>No</td>\n",
              "      <td>45</td>\n",
              "      <td>No</td>\n",
              "      <td>No phone service</td>\n",
              "      <td>DSL</td>\n",
              "      <td>Yes</td>\n",
              "      <td>...</td>\n",
              "      <td>Yes</td>\n",
              "      <td>Yes</td>\n",
              "      <td>No</td>\n",
              "      <td>No</td>\n",
              "      <td>One year</td>\n",
              "      <td>No</td>\n",
              "      <td>Bank transfer (automatic)</td>\n",
              "      <td>42.30</td>\n",
              "      <td>1840.75</td>\n",
              "      <td>No</td>\n",
              "    </tr>\n",
              "    <tr>\n",
              "      <th>4</th>\n",
              "      <td>9237-HQITU</td>\n",
              "      <td>Female</td>\n",
              "      <td>0</td>\n",
              "      <td>No</td>\n",
              "      <td>No</td>\n",
              "      <td>2</td>\n",
              "      <td>Yes</td>\n",
              "      <td>No</td>\n",
              "      <td>Fiber optic</td>\n",
              "      <td>No</td>\n",
              "      <td>...</td>\n",
              "      <td>No</td>\n",
              "      <td>No</td>\n",
              "      <td>No</td>\n",
              "      <td>No</td>\n",
              "      <td>Month-to-month</td>\n",
              "      <td>Yes</td>\n",
              "      <td>Electronic check</td>\n",
              "      <td>70.70</td>\n",
              "      <td>151.65</td>\n",
              "      <td>Yes</td>\n",
              "    </tr>\n",
              "  </tbody>\n",
              "</table>\n",
              "<p>5 rows × 21 columns</p>\n",
              "</div>\n",
              "      <button class=\"colab-df-convert\" onclick=\"convertToInteractive('df-228df4ae-98d2-4149-85eb-c4dea2fa04d3')\"\n",
              "              title=\"Convert this dataframe to an interactive table.\"\n",
              "              style=\"display:none;\">\n",
              "        \n",
              "  <svg xmlns=\"http://www.w3.org/2000/svg\" height=\"24px\"viewBox=\"0 0 24 24\"\n",
              "       width=\"24px\">\n",
              "    <path d=\"M0 0h24v24H0V0z\" fill=\"none\"/>\n",
              "    <path d=\"M18.56 5.44l.94 2.06.94-2.06 2.06-.94-2.06-.94-.94-2.06-.94 2.06-2.06.94zm-11 1L8.5 8.5l.94-2.06 2.06-.94-2.06-.94L8.5 2.5l-.94 2.06-2.06.94zm10 10l.94 2.06.94-2.06 2.06-.94-2.06-.94-.94-2.06-.94 2.06-2.06.94z\"/><path d=\"M17.41 7.96l-1.37-1.37c-.4-.4-.92-.59-1.43-.59-.52 0-1.04.2-1.43.59L10.3 9.45l-7.72 7.72c-.78.78-.78 2.05 0 2.83L4 21.41c.39.39.9.59 1.41.59.51 0 1.02-.2 1.41-.59l7.78-7.78 2.81-2.81c.8-.78.8-2.07 0-2.86zM5.41 20L4 18.59l7.72-7.72 1.47 1.35L5.41 20z\"/>\n",
              "  </svg>\n",
              "      </button>\n",
              "      \n",
              "  <style>\n",
              "    .colab-df-container {\n",
              "      display:flex;\n",
              "      flex-wrap:wrap;\n",
              "      gap: 12px;\n",
              "    }\n",
              "\n",
              "    .colab-df-convert {\n",
              "      background-color: #E8F0FE;\n",
              "      border: none;\n",
              "      border-radius: 50%;\n",
              "      cursor: pointer;\n",
              "      display: none;\n",
              "      fill: #1967D2;\n",
              "      height: 32px;\n",
              "      padding: 0 0 0 0;\n",
              "      width: 32px;\n",
              "    }\n",
              "\n",
              "    .colab-df-convert:hover {\n",
              "      background-color: #E2EBFA;\n",
              "      box-shadow: 0px 1px 2px rgba(60, 64, 67, 0.3), 0px 1px 3px 1px rgba(60, 64, 67, 0.15);\n",
              "      fill: #174EA6;\n",
              "    }\n",
              "\n",
              "    [theme=dark] .colab-df-convert {\n",
              "      background-color: #3B4455;\n",
              "      fill: #D2E3FC;\n",
              "    }\n",
              "\n",
              "    [theme=dark] .colab-df-convert:hover {\n",
              "      background-color: #434B5C;\n",
              "      box-shadow: 0px 1px 3px 1px rgba(0, 0, 0, 0.15);\n",
              "      filter: drop-shadow(0px 1px 2px rgba(0, 0, 0, 0.3));\n",
              "      fill: #FFFFFF;\n",
              "    }\n",
              "  </style>\n",
              "\n",
              "      <script>\n",
              "        const buttonEl =\n",
              "          document.querySelector('#df-228df4ae-98d2-4149-85eb-c4dea2fa04d3 button.colab-df-convert');\n",
              "        buttonEl.style.display =\n",
              "          google.colab.kernel.accessAllowed ? 'block' : 'none';\n",
              "\n",
              "        async function convertToInteractive(key) {\n",
              "          const element = document.querySelector('#df-228df4ae-98d2-4149-85eb-c4dea2fa04d3');\n",
              "          const dataTable =\n",
              "            await google.colab.kernel.invokeFunction('convertToInteractive',\n",
              "                                                     [key], {});\n",
              "          if (!dataTable) return;\n",
              "\n",
              "          const docLinkHtml = 'Like what you see? Visit the ' +\n",
              "            '<a target=\"_blank\" href=https://colab.research.google.com/notebooks/data_table.ipynb>data table notebook</a>'\n",
              "            + ' to learn more about interactive tables.';\n",
              "          element.innerHTML = '';\n",
              "          dataTable['output_type'] = 'display_data';\n",
              "          await google.colab.output.renderOutput(dataTable, element);\n",
              "          const docLink = document.createElement('div');\n",
              "          docLink.innerHTML = docLinkHtml;\n",
              "          element.appendChild(docLink);\n",
              "        }\n",
              "      </script>\n",
              "    </div>\n",
              "  </div>\n",
              "  "
            ]
          },
          "metadata": {},
          "execution_count": 8
        }
      ],
      "source": [
        "#━━━━━━━━━❮initial data❯━━━━━━━━━\n",
        "df =pd.read_csv('WA_Fn-UseC_-Telco-Customer-Churn.csv')\n",
        "#━━━━━━━━━━━━━━❮◆❯━━━━━━━━━━━━━━\n",
        "\n",
        "\n",
        "#━━━━❮dados a serem previstos❯━━━\n",
        "df_val =df.iloc[:10]\n",
        "#━━━━━━━━━━━━━━❮◆❯━━━━━━━━━━━━━━\n",
        "\n",
        "df_val.head(5)"
      ]
    },
    {
      "cell_type": "code",
      "execution_count": null,
      "metadata": {
        "colab": {
          "base_uri": "https://localhost:8080/"
        },
        "id": "dRt_trLRIn0f",
        "outputId": "3ab00e67-5eb1-4730-f257-928021377c14"
      },
      "outputs": [
        {
          "output_type": "stream",
          "name": "stderr",
          "text": [
            "/usr/local/lib/python3.7/dist-packages/ipykernel_launcher.py:5: FutureWarning: In a future version of pandas all arguments of DataFrame.drop except for the argument 'labels' will be keyword-only\n",
            "  \"\"\"\n"
          ]
        }
      ],
      "source": [
        "#━━━━━━━━━━━━━━━❮◆❯━━━━━━━━━━━━━━━━\n",
        "#      treatment of data\n",
        "#━━━━━━━━━━━━━━━❮◆❯━━━━━━━━━━━━━━━━\n",
        "\n",
        "df.drop('customerID', 1, inplace=True)\n",
        "\n",
        "df.TotalCharges =pd.to_numeric(df.TotalCharges, errors='coerce')\n",
        "\n",
        "#Verificando valor vazio\n",
        "df[df.TotalCharges.isna()]\n",
        "\n",
        "#tirando valores vazios (totalcharges)\n",
        "df.dropna(subset=['TotalCharges'], inplace=True)\n",
        "\n",
        "#df.head(5)"
      ]
    },
    {
      "cell_type": "code",
      "execution_count": null,
      "metadata": {
        "colab": {
          "base_uri": "https://localhost:8080/",
          "height": 354
        },
        "id": "kbfH9tCTIn0g",
        "outputId": "504d2875-85a7-4f7b-e6b2-dc8da8635e29"
      },
      "outputs": [
        {
          "output_type": "stream",
          "name": "stderr",
          "text": [
            "/usr/local/lib/python3.7/dist-packages/numpy/core/fromnumeric.py:3208: VisibleDeprecationWarning: Creating an ndarray from ragged nested sequences (which is a list-or-tuple of lists-or-tuples-or ndarrays with different lengths or shapes) is deprecated. If you meant to do this, you must specify 'dtype=object' when creating the ndarray.\n",
            "  return asarray(a).size\n",
            "/usr/local/lib/python3.7/dist-packages/matplotlib/cbook/__init__.py:1376: VisibleDeprecationWarning: Creating an ndarray from ragged nested sequences (which is a list-or-tuple of lists-or-tuples-or ndarrays with different lengths or shapes) is deprecated. If you meant to do this, you must specify 'dtype=object' when creating the ndarray.\n",
            "  X = np.atleast_1d(X.T if isinstance(X, np.ndarray) else np.asarray(X))\n"
          ]
        },
        {
          "output_type": "display_data",
          "data": {
            "text/plain": [
              "<Figure size 432x288 with 1 Axes>"
            ],
            "image/png": "[encoded data removed]"
          },
          "metadata": {
            "needs_background": "light"
          }
        }
      ],
      "source": [
        "#━━━━━━━━━━━━━━━❮◆❯━━━━━━━━━━━━━━━━\n",
        "#             Graficos\n",
        "#━━━━━━━━━━━━━━━❮◆❯━━━━━━━━━━━━━━━━\n",
        "\n",
        "\n",
        "#grafico analise de tenure\n",
        "#    tenure--> quantidade de meses q o cliente ta na empresa\n",
        "\n",
        "dfno =df[df.Churn=='No'].tenure\n",
        "dfyes =df[df.Churn=='Yes'].tenure\n",
        "\n",
        "plt.hist([dfno, dfyes], color=['blue','red'],label=['Churn =no', 'Churn =yes'])\n",
        "\n",
        "plt.legend()\n",
        "\n",
        "#━━━━━━━━━━━━━━━❮◆❯━━━━━━━━━━━━━━━━\n",
        "#        Salvando Relatório\n",
        "#━━━━━━━━━━━━━━━❮◆❯━━━━━━━━━━━━━━━━\n",
        "\n",
        "plt.savefig(\"graph Churn-churn.png\")"
      ]
    },
    {
      "cell_type": "code",
      "execution_count": null,
      "metadata": {
        "colab": {
          "base_uri": "https://localhost:8080/",
          "height": 266
        },
        "id": "0o2Ym3WuIn0h",
        "outputId": "3854d40f-fbbe-46ca-b2d9-ba9abe40eb5b"
      },
      "outputs": [
        {
          "output_type": "display_data",
          "data": {
            "text/plain": [
              "<Figure size 432x288 with 1 Axes>"
            ],
            "image/png": "[encoded data removed]"
          },
          "metadata": {
            "needs_background": "light"
          }
        }
      ],
      "source": [
        "#━━━━━━━━━━━━━━━❮◆❯━━━━━━━━━━━━━━━━\n",
        "#             Graficos\n",
        "#━━━━━━━━━━━━━━━❮◆❯━━━━━━━━━━━━━━━━\n",
        "\n",
        "dfno =df[df.Churn=='No'].Dependents\n",
        "dfyes =df[df.Churn=='Yes'].Dependents\n",
        "\n",
        "plt.hist([dfno, dfyes], color=['blue','red'],label=['Churn =no', 'Churn =yes'])\n",
        "plt.legend()\n",
        "\n",
        "#━━━━━━━━━━━━━━━❮◆❯━━━━━━━━━━━━━━━━\n",
        "#        Salvando Relatório\n",
        "#━━━━━━━━━━━━━━━❮◆❯━━━━━━━━━━━━━━━━\n",
        "\n",
        "\n",
        "\n",
        "plt.savefig(\"graph churn-dep .png\")"
      ]
    },
    {
      "cell_type": "code",
      "execution_count": null,
      "metadata": {
        "colab": {
          "base_uri": "https://localhost:8080/",
          "height": 265
        },
        "id": "DUYpul8aIn0h",
        "outputId": "8548e076-9bd6-4da2-ddb1-6486970096ab"
      },
      "outputs": [
        {
          "output_type": "display_data",
          "data": {
            "text/plain": [
              "<Figure size 432x288 with 1 Axes>"
            ],
            "image/png": "[encoded data removed]"
          },
          "metadata": {
            "needs_background": "light"
          }
        }
      ],
      "source": [
        "#━━━━━━━━━━━━━━━❮◆❯━━━━━━━━━━━━━━━━\n",
        "#             Graficos\n",
        "#━━━━━━━━━━━━━━━❮◆❯━━━━━━━━━━━━━━━━\n",
        "\n",
        "dfno =df[df.Churn=='No'].MonthlyCharges\t\n",
        "dfyes =df[df.Churn=='Yes'].MonthlyCharges\t\n",
        "\n",
        "plt.hist([dfno, dfyes], color=['blue','red'],label=['Churn =no', 'Churn =yes'])\n",
        "plt.legend()\n",
        "\n",
        "\n",
        "#━━━━━━━━━━━━━━━❮◆❯━━━━━━━━━━━━━━━━\n",
        "#        Salvando Relatório\n",
        "#━━━━━━━━━━━━━━━❮◆❯━━━━━━━━━━━━━━━━\n",
        "\n",
        "plt.savefig(\"graph churn-MC.png\")"
      ]
    },
    {
      "cell_type": "code",
      "execution_count": null,
      "metadata": {
        "colab": {
          "base_uri": "https://localhost:8080/",
          "height": 647
        },
        "id": "_pChEKjSIn0i",
        "outputId": "e0f4b16e-8920-462f-bfc9-f8518c9a0dcc"
      },
      "outputs": [
        {
          "output_type": "stream",
          "name": "stdout",
          "text": [
            "No: 5163 Yes: 1869  % No: gender              100.0\n",
            "SeniorCitizen       100.0\n",
            "Partner             100.0\n",
            "Dependents          100.0\n",
            "tenure              100.0\n",
            "PhoneService        100.0\n",
            "MultipleLines       100.0\n",
            "InternetService     100.0\n",
            "OnlineSecurity      100.0\n",
            "OnlineBackup        100.0\n",
            "DeviceProtection    100.0\n",
            "TechSupport         100.0\n",
            "StreamingTV         100.0\n",
            "StreamingMovies     100.0\n",
            "Contract            100.0\n",
            "PaperlessBilling    100.0\n",
            "PaymentMethod       100.0\n",
            "MonthlyCharges      100.0\n",
            "TotalCharges        100.0\n",
            "Churn               100.0\n",
            "dtype: float64\n"
          ]
        },
        {
          "output_type": "execute_result",
          "data": {
            "text/plain": [
              "<matplotlib.legend.Legend at 0x7f87e9fadc10>"
            ]
          },
          "metadata": {},
          "execution_count": 13
        },
        {
          "output_type": "display_data",
          "data": {
            "text/plain": [
              "<Figure size 432x288 with 1 Axes>"
            ],
            "image/png": "[encoded data removed]"
          },
          "metadata": {
            "needs_background": "light"
          }
        }
      ],
      "source": [
        "#━━━━━━━━━━━━━━━❮◆❯━━━━━━━━━━━━━━━━\n",
        "#    balanceamento do dataset\n",
        "#━━━━━━━━━━━━━━━❮◆❯━━━━━━━━━━━━━━━━\n",
        "\n",
        "dfno =df[df.Churn=='No'].Churn\t\n",
        "dfyes =df[df.Churn=='Yes'].Churn\n",
        "\n",
        "total =dfno.count() +dfyes.count()\n",
        "percent =round((df.count() /total)*100, 2)\n",
        "\n",
        "print(f'No: {dfno.count()}',f'Yes: {dfyes.count()}', f' % No: {percent}')\n",
        "\n",
        "#Plotagem\n",
        "\n",
        "plt.hist([dfno, dfyes], color=['blue','red'],label=['Churn =no', 'Churn =yes'])\n",
        "plt.legend()"
      ]
    },
    {
      "cell_type": "code",
      "execution_count": null,
      "metadata": {
        "colab": {
          "base_uri": "https://localhost:8080/"
        },
        "id": "RgKvFKjZIn0i",
        "outputId": "566297e6-de03-4dfe-e8df-7548bfb5b0f6"
      },
      "outputs": [
        {
          "output_type": "stream",
          "name": "stdout",
          "text": [
            "gender : ['Female' 'Male']\n",
            "Partner : ['Yes' 'No']\n",
            "Dependents : ['No' 'Yes']\n",
            "PhoneService : ['No' 'Yes']\n",
            "MultipleLines : ['No phone service' 'No' 'Yes']\n",
            "InternetService : ['DSL' 'Fiber optic' 'No']\n",
            "OnlineSecurity : ['No' 'Yes' 'No internet service']\n",
            "OnlineBackup : ['Yes' 'No' 'No internet service']\n",
            "DeviceProtection : ['No' 'Yes' 'No internet service']\n",
            "TechSupport : ['No' 'Yes' 'No internet service']\n",
            "StreamingTV : ['No' 'Yes' 'No internet service']\n",
            "StreamingMovies : ['No' 'Yes' 'No internet service']\n",
            "Contract : ['Month-to-month' 'One year' 'Two year']\n",
            "PaperlessBilling : ['Yes' 'No']\n",
            "PaymentMethod : ['Electronic check' 'Mailed check' 'Bank transfer (automatic)'\n",
            " 'Credit card (automatic)']\n",
            "Churn : ['No' 'Yes']\n"
          ]
        }
      ],
      "source": [
        "#━━━━━━━━━━━━━━━❮◆❯━━━━━━━━━━━━━━━━\n",
        "#    padronizando multiplanelines\n",
        "#━━━━━━━━━━━━━━━❮◆❯━━━━━━━━━━━━━━━━\n",
        "\n",
        "for i in df:\n",
        "  if df[i].dtypes =='object':\n",
        "    print(f'{i} : {df[i].unique()}')\n",
        "    \n",
        "df.replace('No internet service', 'No', inplace=True)\n",
        "df.replace('No phone service', 'No', inplace=True)"
      ]
    },
    {
      "cell_type": "code",
      "execution_count": null,
      "metadata": {
        "colab": {
          "base_uri": "https://localhost:8080/"
        },
        "id": "chnszgGnIn0j",
        "outputId": "fa47814f-a546-4e32-e111-0be3e9857f9d"
      },
      "outputs": [
        {
          "output_type": "execute_result",
          "data": {
            "text/plain": [
              "Index(['SeniorCitizen', 'tenure', 'MonthlyCharges', 'TotalCharges', 'Churn',\n",
              "       'gender_Female', 'gender_Male', 'InternetService_DSL',\n",
              "       'InternetService_Fiber optic', 'InternetService_No', 'Partner_No',\n",
              "       'Partner_Yes', 'Dependents_No', 'Dependents_Yes', 'PhoneService_No',\n",
              "       'PhoneService_Yes', 'MultipleLines_No', 'MultipleLines_Yes',\n",
              "       'InternetService_DSL', 'InternetService_Fiber optic',\n",
              "       'InternetService_No', 'OnlineSecurity_No', 'OnlineSecurity_Yes',\n",
              "       'OnlineBackup_No', 'OnlineBackup_Yes', 'DeviceProtection_No',\n",
              "       'DeviceProtection_Yes', 'TechSupport_No', 'TechSupport_Yes',\n",
              "       'StreamingTV_No', 'StreamingTV_Yes', 'StreamingMovies_No',\n",
              "       'StreamingMovies_Yes', 'Contract_Month-to-month', 'Contract_One year',\n",
              "       'Contract_Two year', 'PaperlessBilling_No', 'PaperlessBilling_Yes',\n",
              "       'PaymentMethod_Bank transfer (automatic)',\n",
              "       'PaymentMethod_Credit card (automatic)',\n",
              "       'PaymentMethod_Electronic check', 'PaymentMethod_Mailed check'],\n",
              "      dtype='object')"
            ]
          },
          "metadata": {},
          "execution_count": 15
        }
      ],
      "source": [
        "#━━━━━━━━━━━━━━━❮◆❯━━━━━━━━━━━━━━━━\n",
        "#       Mudando para Números\n",
        "#━━━━━━━━━━━━━━━❮◆❯━━━━━━━━━━━━━━━━\n",
        "\n",
        "dfnum =pd.get_dummies(data=df, columns=['gender', 'InternetService', 'Partner', 'Dependents', 'PhoneService',\n",
        "                      'MultipleLines', 'InternetService', 'OnlineSecurity', 'OnlineBackup',\n",
        "                      'DeviceProtection', 'TechSupport', 'StreamingTV', 'StreamingMovies', 'Contract',\n",
        "                      'PaperlessBilling','PaymentMethod'])\n",
        "dfnum.columns"
      ]
    },
    {
      "cell_type": "code",
      "execution_count": null,
      "metadata": {
        "colab": {
          "base_uri": "https://localhost:8080/"
        },
        "id": "nnrIswPjIn0j",
        "outputId": "3e457afa-4de7-4534-920f-94f3fe4a57f7"
      },
      "outputs": [
        {
          "output_type": "execute_result",
          "data": {
            "text/plain": [
              "2504    1\n",
              "1635    0\n",
              "1279    0\n",
              "1070    1\n",
              "2377    0\n",
              "5181    0\n",
              "4791    0\n",
              "5359    1\n",
              "1115    0\n",
              "1173    1\n",
              "365     1\n",
              "6158    0\n",
              "1289    0\n",
              "2722    0\n",
              "3579    0\n",
              "Name: Churn, dtype: int64"
            ]
          },
          "metadata": {},
          "execution_count": 16
        }
      ],
      "source": [
        "#━━━━━━━━━━━━━━━❮◆❯━━━━━━━━━━━━━━━━\n",
        "#           label encoder\n",
        "#━━━━━━━━━━━━━━━❮◆❯━━━━━━━━━━━━━━━━\n",
        "\n",
        "le =LabelEncoder()\n",
        "dfnum['Churn'] =le.fit_transform(dfnum['Churn'])\n",
        "dfnum.Churn.sample(15)"
      ]
    },
    {
      "cell_type": "code",
      "execution_count": null,
      "metadata": {
        "id": "5BhAPpRqIn0k"
      },
      "outputs": [],
      "source": [
        "#━━━━━━━━━━━━━━━❮◆❯━━━━━━━━━━━━━━━━\n",
        "#         Ajuste de Escala\n",
        "#━━━━━━━━━━━━━━━❮◆❯━━━━━━━━━━━━━━━━\n",
        "\n",
        "scaler =MinMaxScaler()\n",
        "dfnum[['tenure', 'MonthlyCharges', 'TotalCharges']] =scaler.fit_transform(dfnum[['tenure', 'MonthlyCharges','TotalCharges']])\n",
        "#dfnum.sample(5)"
      ]
    },
    {
      "cell_type": "code",
      "execution_count": null,
      "metadata": {
        "colab": {
          "base_uri": "https://localhost:8080/"
        },
        "id": "D-MbnoUsIn0k",
        "outputId": "69b72cdf-df07-4da6-8eca-c7e0cd30630c"
      },
      "outputs": [
        {
          "output_type": "stream",
          "name": "stderr",
          "text": [
            "/usr/local/lib/python3.7/dist-packages/ipykernel_launcher.py:5: FutureWarning: In a future version of pandas all arguments of DataFrame.drop except for the argument 'labels' will be keyword-only\n",
            "  \"\"\"\n"
          ]
        }
      ],
      "source": [
        "#━━━━━━━━━━━━━━━❮◆❯━━━━━━━━━━━━━━━━\n",
        "#     separar features e labels\n",
        "#━━━━━━━━━━━━━━━❮◆❯━━━━━━━━━━━━━━━━\n",
        "\n",
        "features =dfnum.drop(['Churn'], 1)\n",
        "label =dfnum['Churn']"
      ]
    },
    {
      "cell_type": "code",
      "execution_count": null,
      "metadata": {
        "colab": {
          "base_uri": "https://localhost:8080/",
          "height": 334
        },
        "id": "ZB5ryrIUIn0l",
        "outputId": "8c908224-2767-4c54-bbac-eb9d65e3803e"
      },
      "outputs": [
        {
          "output_type": "execute_result",
          "data": {
            "text/plain": [
              "   SeniorCitizen    tenure  MonthlyCharges  TotalCharges  gender_Female  \\\n",
              "0              0  0.000000        0.115423      0.001275              1   \n",
              "1              0  0.464789        0.385075      0.215867              0   \n",
              "2              0  0.014085        0.354229      0.010310              0   \n",
              "3              0  0.619718        0.239303      0.210241              0   \n",
              "4              0  0.014085        0.521891      0.015330              1   \n",
              "\n",
              "   gender_Male  InternetService_DSL  InternetService_Fiber optic  \\\n",
              "0            0                    1                            0   \n",
              "1            1                    1                            0   \n",
              "2            1                    1                            0   \n",
              "3            1                    1                            0   \n",
              "4            0                    0                            1   \n",
              "\n",
              "   InternetService_No  Partner_No  ...  StreamingMovies_Yes  \\\n",
              "0                   0           0  ...                    0   \n",
              "1                   0           1  ...                    0   \n",
              "2                   0           1  ...                    0   \n",
              "3                   0           1  ...                    0   \n",
              "4                   0           1  ...                    0   \n",
              "\n",
              "   Contract_Month-to-month  Contract_One year  Contract_Two year  \\\n",
              "0                        1                  0                  0   \n",
              "1                        0                  1                  0   \n",
              "2                        1                  0                  0   \n",
              "3                        0                  1                  0   \n",
              "4                        1                  0                  0   \n",
              "\n",
              "   PaperlessBilling_No  PaperlessBilling_Yes  \\\n",
              "0                    0                     1   \n",
              "1                    1                     0   \n",
              "2                    0                     1   \n",
              "3                    1                     0   \n",
              "4                    0                     1   \n",
              "\n",
              "   PaymentMethod_Bank transfer (automatic)  \\\n",
              "0                                        0   \n",
              "1                                        0   \n",
              "2                                        0   \n",
              "3                                        1   \n",
              "4                                        0   \n",
              "\n",
              "   PaymentMethod_Credit card (automatic)  PaymentMethod_Electronic check  \\\n",
              "0                                      0                               1   \n",
              "1                                      0                               0   \n",
              "2                                      0                               0   \n",
              "3                                      0                               0   \n",
              "4                                      0                               1   \n",
              "\n",
              "   PaymentMethod_Mailed check  \n",
              "0                           0  \n",
              "1                           1  \n",
              "2                           1  \n",
              "3                           0  \n",
              "4                           0  \n",
              "\n",
              "[5 rows x 41 columns]"
            ],
            "text/html": [
              "\n",
              "  <div id=\"df-3c72a908-1daf-4c97-ac4d-6a945e5659bc\">\n",
              "    <div class=\"colab-df-container\">\n",
              "      <div>\n",
              "<style scoped>\n",
              "    .dataframe tbody tr th:only-of-type {\n",
              "        vertical-align: middle;\n",
              "    }\n",
              "\n",
              "    .dataframe tbody tr th {\n",
              "        vertical-align: top;\n",
              "    }\n",
              "\n",
              "    .dataframe thead th {\n",
              "        text-align: right;\n",
              "    }\n",
              "</style>\n",
              "<table border=\"1\" class=\"dataframe\">\n",
              "  <thead>\n",
              "    <tr style=\"text-align: right;\">\n",
              "      <th></th>\n",
              "      <th>SeniorCitizen</th>\n",
              "      <th>tenure</th>\n",
              "      <th>MonthlyCharges</th>\n",
              "      <th>TotalCharges</th>\n",
              "      <th>gender_Female</th>\n",
              "      <th>gender_Male</th>\n",
              "      <th>InternetService_DSL</th>\n",
              "      <th>InternetService_Fiber optic</th>\n",
              "      <th>InternetService_No</th>\n",
              "      <th>Partner_No</th>\n",
              "      <th>...</th>\n",
              "      <th>StreamingMovies_Yes</th>\n",
              "      <th>Contract_Month-to-month</th>\n",
              "      <th>Contract_One year</th>\n",
              "      <th>Contract_Two year</th>\n",
              "      <th>PaperlessBilling_No</th>\n",
              "      <th>PaperlessBilling_Yes</th>\n",
              "      <th>PaymentMethod_Bank transfer (automatic)</th>\n",
              "      <th>PaymentMethod_Credit card (automatic)</th>\n",
              "      <th>PaymentMethod_Electronic check</th>\n",
              "      <th>PaymentMethod_Mailed check</th>\n",
              "    </tr>\n",
              "  </thead>\n",
              "  <tbody>\n",
              "    <tr>\n",
              "      <th>0</th>\n",
              "      <td>0</td>\n",
              "      <td>0.000000</td>\n",
              "      <td>0.115423</td>\n",
              "      <td>0.001275</td>\n",
              "      <td>1</td>\n",
              "      <td>0</td>\n",
              "      <td>1</td>\n",
              "      <td>0</td>\n",
              "      <td>0</td>\n",
              "      <td>0</td>\n",
              "      <td>...</td>\n",
              "      <td>0</td>\n",
              "      <td>1</td>\n",
              "      <td>0</td>\n",
              "      <td>0</td>\n",
              "      <td>0</td>\n",
              "      <td>1</td>\n",
              "      <td>0</td>\n",
              "      <td>0</td>\n",
              "      <td>1</td>\n",
              "      <td>0</td>\n",
              "    </tr>\n",
              "    <tr>\n",
              "      <th>1</th>\n",
              "      <td>0</td>\n",
              "      <td>0.464789</td>\n",
              "      <td>0.385075</td>\n",
              "      <td>0.215867</td>\n",
              "      <td>0</td>\n",
              "      <td>1</td>\n",
              "      <td>1</td>\n",
              "      <td>0</td>\n",
              "      <td>0</td>\n",
              "      <td>1</td>\n",
              "      <td>...</td>\n",
              "      <td>0</td>\n",
              "      <td>0</td>\n",
              "      <td>1</td>\n",
              "      <td>0</td>\n",
              "      <td>1</td>\n",
              "      <td>0</td>\n",
              "      <td>0</td>\n",
              "      <td>0</td>\n",
              "      <td>0</td>\n",
              "      <td>1</td>\n",
              "    </tr>\n",
              "    <tr>\n",
              "      <th>2</th>\n",
              "      <td>0</td>\n",
              "      <td>0.014085</td>\n",
              "      <td>0.354229</td>\n",
              "      <td>0.010310</td>\n",
              "      <td>0</td>\n",
              "      <td>1</td>\n",
              "      <td>1</td>\n",
              "      <td>0</td>\n",
              "      <td>0</td>\n",
              "      <td>1</td>\n",
              "      <td>...</td>\n",
              "      <td>0</td>\n",
              "      <td>1</td>\n",
              "      <td>0</td>\n",
              "      <td>0</td>\n",
              "      <td>0</td>\n",
              "      <td>1</td>\n",
              "      <td>0</td>\n",
              "      <td>0</td>\n",
              "      <td>0</td>\n",
              "      <td>1</td>\n",
              "    </tr>\n",
              "    <tr>\n",
              "      <th>3</th>\n",
              "      <td>0</td>\n",
              "      <td>0.619718</td>\n",
              "      <td>0.239303</td>\n",
              "      <td>0.210241</td>\n",
              "      <td>0</td>\n",
              "      <td>1</td>\n",
              "      <td>1</td>\n",
              "      <td>0</td>\n",
              "      <td>0</td>\n",
              "      <td>1</td>\n",
              "      <td>...</td>\n",
              "      <td>0</td>\n",
              "      <td>0</td>\n",
              "      <td>1</td>\n",
              "      <td>0</td>\n",
              "      <td>1</td>\n",
              "      <td>0</td>\n",
              "      <td>1</td>\n",
              "      <td>0</td>\n",
              "      <td>0</td>\n",
              "      <td>0</td>\n",
              "    </tr>\n",
              "    <tr>\n",
              "      <th>4</th>\n",
              "      <td>0</td>\n",
              "      <td>0.014085</td>\n",
              "      <td>0.521891</td>\n",
              "      <td>0.015330</td>\n",
              "      <td>1</td>\n",
              "      <td>0</td>\n",
              "      <td>0</td>\n",
              "      <td>1</td>\n",
              "      <td>0</td>\n",
              "      <td>1</td>\n",
              "      <td>...</td>\n",
              "      <td>0</td>\n",
              "      <td>1</td>\n",
              "      <td>0</td>\n",
              "      <td>0</td>\n",
              "      <td>0</td>\n",
              "      <td>1</td>\n",
              "      <td>0</td>\n",
              "      <td>0</td>\n",
              "      <td>1</td>\n",
              "      <td>0</td>\n",
              "    </tr>\n",
              "  </tbody>\n",
              "</table>\n",
              "<p>5 rows × 41 columns</p>\n",
              "</div>\n",
              "      <button class=\"colab-df-convert\" onclick=\"convertToInteractive('df-3c72a908-1daf-4c97-ac4d-6a945e5659bc')\"\n",
              "              title=\"Convert this dataframe to an interactive table.\"\n",
              "              style=\"display:none;\">\n",
              "        \n",
              "  <svg xmlns=\"http://www.w3.org/2000/svg\" height=\"24px\"viewBox=\"0 0 24 24\"\n",
              "       width=\"24px\">\n",
              "    <path d=\"M0 0h24v24H0V0z\" fill=\"none\"/>\n",
              "    <path d=\"M18.56 5.44l.94 2.06.94-2.06 2.06-.94-2.06-.94-.94-2.06-.94 2.06-2.06.94zm-11 1L8.5 8.5l.94-2.06 2.06-.94-2.06-.94L8.5 2.5l-.94 2.06-2.06.94zm10 10l.94 2.06.94-2.06 2.06-.94-2.06-.94-.94-2.06-.94 2.06-2.06.94z\"/><path d=\"M17.41 7.96l-1.37-1.37c-.4-.4-.92-.59-1.43-.59-.52 0-1.04.2-1.43.59L10.3 9.45l-7.72 7.72c-.78.78-.78 2.05 0 2.83L4 21.41c.39.39.9.59 1.41.59.51 0 1.02-.2 1.41-.59l7.78-7.78 2.81-2.81c.8-.78.8-2.07 0-2.86zM5.41 20L4 18.59l7.72-7.72 1.47 1.35L5.41 20z\"/>\n",
              "  </svg>\n",
              "      </button>\n",
              "      \n",
              "  <style>\n",
              "    .colab-df-container {\n",
              "      display:flex;\n",
              "      flex-wrap:wrap;\n",
              "      gap: 12px;\n",
              "    }\n",
              "\n",
              "    .colab-df-convert {\n",
              "      background-color: #E8F0FE;\n",
              "      border: none;\n",
              "      border-radius: 50%;\n",
              "      cursor: pointer;\n",
              "      display: none;\n",
              "      fill: #1967D2;\n",
              "      height: 32px;\n",
              "      padding: 0 0 0 0;\n",
              "      width: 32px;\n",
              "    }\n",
              "\n",
              "    .colab-df-convert:hover {\n",
              "      background-color: #E2EBFA;\n",
              "      box-shadow: 0px 1px 2px rgba(60, 64, 67, 0.3), 0px 1px 3px 1px rgba(60, 64, 67, 0.15);\n",
              "      fill: #174EA6;\n",
              "    }\n",
              "\n",
              "    [theme=dark] .colab-df-convert {\n",
              "      background-color: #3B4455;\n",
              "      fill: #D2E3FC;\n",
              "    }\n",
              "\n",
              "    [theme=dark] .colab-df-convert:hover {\n",
              "      background-color: #434B5C;\n",
              "      box-shadow: 0px 1px 3px 1px rgba(0, 0, 0, 0.15);\n",
              "      filter: drop-shadow(0px 1px 2px rgba(0, 0, 0, 0.3));\n",
              "      fill: #FFFFFF;\n",
              "    }\n",
              "  </style>\n",
              "\n",
              "      <script>\n",
              "        const buttonEl =\n",
              "          document.querySelector('#df-3c72a908-1daf-4c97-ac4d-6a945e5659bc button.colab-df-convert');\n",
              "        buttonEl.style.display =\n",
              "          google.colab.kernel.accessAllowed ? 'block' : 'none';\n",
              "\n",
              "        async function convertToInteractive(key) {\n",
              "          const element = document.querySelector('#df-3c72a908-1daf-4c97-ac4d-6a945e5659bc');\n",
              "          const dataTable =\n",
              "            await google.colab.kernel.invokeFunction('convertToInteractive',\n",
              "                                                     [key], {});\n",
              "          if (!dataTable) return;\n",
              "\n",
              "          const docLinkHtml = 'Like what you see? Visit the ' +\n",
              "            '<a target=\"_blank\" href=https://colab.research.google.com/notebooks/data_table.ipynb>data table notebook</a>'\n",
              "            + ' to learn more about interactive tables.';\n",
              "          element.innerHTML = '';\n",
              "          dataTable['output_type'] = 'display_data';\n",
              "          await google.colab.output.renderOutput(dataTable, element);\n",
              "          const docLink = document.createElement('div');\n",
              "          docLink.innerHTML = docLinkHtml;\n",
              "          element.appendChild(docLink);\n",
              "        }\n",
              "      </script>\n",
              "    </div>\n",
              "  </div>\n",
              "  "
            ]
          },
          "metadata": {},
          "execution_count": 19
        }
      ],
      "source": [
        "#━━━━━━━━━━━━━━━❮◆❯━━━━━━━━━━━━━━━━\n",
        "#             Validação\n",
        "#━━━━━━━━━━━━━━━❮◆❯━━━━━━━━━━━━━━━━\n",
        "\n",
        "val =features.head(10)\n",
        "val.head(5)"
      ]
    },
    {
      "cell_type": "code",
      "execution_count": null,
      "metadata": {
        "id": "UXbAIae2In0l"
      },
      "outputs": [],
      "source": [
        "#━━━━━━━━━━━━━━━❮◆❯━━━━━━━━━━━━━━━━\n",
        "#           Nova Feature\n",
        "#━━━━━━━━━━━━━━━❮◆❯━━━━━━━━━━━━━━━━\n",
        "\n",
        "features =features.iloc[10:]\n",
        "label =label.iloc[10:]"
      ]
    },
    {
      "cell_type": "code",
      "execution_count": null,
      "metadata": {
        "colab": {
          "base_uri": "https://localhost:8080/"
        },
        "id": "Tylv_rFYIn0l",
        "outputId": "0bcf9b12-b4ac-48f3-d919-bc0336e8b9b2"
      },
      "outputs": [
        {
          "output_type": "stream",
          "name": "stdout",
          "text": [
            "(4915, 41) (4915,)\n"
          ]
        }
      ],
      "source": [
        "#━━━━━━━━━━━━━━━❮◆❯━━━━━━━━━━━━━━━━\n",
        "#         Treino & Teste\n",
        "#━━━━━━━━━━━━━━━❮◆❯━━━━━━━━━━━━━━━━\n",
        "\n",
        "X_train, X_test, y_train, y_test = train_test_split(features, label, test_size=0.3, random_state=42)\n",
        "\n",
        "\n",
        "print(X_train.shape, y_train.shape)\n",
        "\n",
        "\n",
        "rf_model = RandomForestClassifier(n_estimators=50, max_features=\"auto\", random_state=44)\n",
        "\n",
        "#parametro de execução\n"
      ]
    },
    {
      "cell_type": "code",
      "execution_count": null,
      "metadata": {
        "colab": {
          "base_uri": "https://localhost:8080/"
        },
        "id": "ljMcx12iIn0l",
        "outputId": "160c5777-4e52-4f18-abcb-f163c99987ed"
      },
      "outputs": [
        {
          "output_type": "execute_result",
          "data": {
            "text/plain": [
              "RandomForestClassifier(n_estimators=50, random_state=44)"
            ]
          },
          "metadata": {},
          "execution_count": 25
        }
      ],
      "source": [
        "#━━━━━━━━━━━━━━━❮◆❯━━━━━━━━━━━━━━━━\n",
        "#            Treinamento\n",
        "#━━━━━━━━━━━━━━━❮◆❯━━━━━━━━━━━━━━━━\n",
        "\n",
        "rf_model.fit(X_train, y_train)"
      ]
    },
    {
      "cell_type": "code",
      "execution_count": null,
      "metadata": {
        "colab": {
          "base_uri": "https://localhost:8080/",
          "height": 380
        },
        "id": "TwO_8DePIn0m",
        "outputId": "e0d7bf29-ea30-4c89-bc32-288fc8d301c3"
      },
      "outputs": [
        {
          "output_type": "stream",
          "name": "stdout",
          "text": [
            "[1 0 0 0 1 1 1 0 1 0]\n"
          ]
        },
        {
          "output_type": "display_data",
          "data": {
            "text/plain": [
              "      cliente  previsão real  churn\n",
              "0  7590-VHVEG         1   No      1\n",
              "1  5575-GNVDE         0   No      0\n",
              "2  3668-QPYBK         0  Yes      0\n",
              "3  7795-CFOCW         0   No      0\n",
              "4  9237-HQITU         1  Yes      1\n",
              "5  9305-CDSKC         1  Yes      1\n",
              "6  1452-KIOVK         1   No      1\n",
              "7  6713-OKOMC         0   No      0\n",
              "8  7892-POOKP         1  Yes      1\n",
              "9  6388-TABGU         0   No      0"
            ],
            "text/html": [
              "\n",
              "  <div id=\"df-8763aa4a-c967-4973-ab87-93f920b245c9\">\n",
              "    <div class=\"colab-df-container\">\n",
              "      <div>\n",
              "<style scoped>\n",
              "    .dataframe tbody tr th:only-of-type {\n",
              "        vertical-align: middle;\n",
              "    }\n",
              "\n",
              "    .dataframe tbody tr th {\n",
              "        vertical-align: top;\n",
              "    }\n",
              "\n",
              "    .dataframe thead th {\n",
              "        text-align: right;\n",
              "    }\n",
              "</style>\n",
              "<table border=\"1\" class=\"dataframe\">\n",
              "  <thead>\n",
              "    <tr style=\"text-align: right;\">\n",
              "      <th></th>\n",
              "      <th>cliente</th>\n",
              "      <th>previsão</th>\n",
              "      <th>real</th>\n",
              "      <th>churn</th>\n",
              "    </tr>\n",
              "  </thead>\n",
              "  <tbody>\n",
              "    <tr>\n",
              "      <th>0</th>\n",
              "      <td>7590-VHVEG</td>\n",
              "      <td>1</td>\n",
              "      <td>No</td>\n",
              "      <td>1</td>\n",
              "    </tr>\n",
              "    <tr>\n",
              "      <th>1</th>\n",
              "      <td>5575-GNVDE</td>\n",
              "      <td>0</td>\n",
              "      <td>No</td>\n",
              "      <td>0</td>\n",
              "    </tr>\n",
              "    <tr>\n",
              "      <th>2</th>\n",
              "      <td>3668-QPYBK</td>\n",
              "      <td>0</td>\n",
              "      <td>Yes</td>\n",
              "      <td>0</td>\n",
              "    </tr>\n",
              "    <tr>\n",
              "      <th>3</th>\n",
              "      <td>7795-CFOCW</td>\n",
              "      <td>0</td>\n",
              "      <td>No</td>\n",
              "      <td>0</td>\n",
              "    </tr>\n",
              "    <tr>\n",
              "      <th>4</th>\n",
              "      <td>9237-HQITU</td>\n",
              "      <td>1</td>\n",
              "      <td>Yes</td>\n",
              "      <td>1</td>\n",
              "    </tr>\n",
              "    <tr>\n",
              "      <th>5</th>\n",
              "      <td>9305-CDSKC</td>\n",
              "      <td>1</td>\n",
              "      <td>Yes</td>\n",
              "      <td>1</td>\n",
              "    </tr>\n",
              "    <tr>\n",
              "      <th>6</th>\n",
              "      <td>1452-KIOVK</td>\n",
              "      <td>1</td>\n",
              "      <td>No</td>\n",
              "      <td>1</td>\n",
              "    </tr>\n",
              "    <tr>\n",
              "      <th>7</th>\n",
              "      <td>6713-OKOMC</td>\n",
              "      <td>0</td>\n",
              "      <td>No</td>\n",
              "      <td>0</td>\n",
              "    </tr>\n",
              "    <tr>\n",
              "      <th>8</th>\n",
              "      <td>7892-POOKP</td>\n",
              "      <td>1</td>\n",
              "      <td>Yes</td>\n",
              "      <td>1</td>\n",
              "    </tr>\n",
              "    <tr>\n",
              "      <th>9</th>\n",
              "      <td>6388-TABGU</td>\n",
              "      <td>0</td>\n",
              "      <td>No</td>\n",
              "      <td>0</td>\n",
              "    </tr>\n",
              "  </tbody>\n",
              "</table>\n",
              "</div>\n",
              "      <button class=\"colab-df-convert\" onclick=\"convertToInteractive('df-8763aa4a-c967-4973-ab87-93f920b245c9')\"\n",
              "              title=\"Convert this dataframe to an interactive table.\"\n",
              "              style=\"display:none;\">\n",
              "        \n",
              "  <svg xmlns=\"http://www.w3.org/2000/svg\" height=\"24px\"viewBox=\"0 0 24 24\"\n",
              "       width=\"24px\">\n",
              "    <path d=\"M0 0h24v24H0V0z\" fill=\"none\"/>\n",
              "    <path d=\"M18.56 5.44l.94 2.06.94-2.06 2.06-.94-2.06-.94-.94-2.06-.94 2.06-2.06.94zm-11 1L8.5 8.5l.94-2.06 2.06-.94-2.06-.94L8.5 2.5l-.94 2.06-2.06.94zm10 10l.94 2.06.94-2.06 2.06-.94-2.06-.94-.94-2.06-.94 2.06-2.06.94z\"/><path d=\"M17.41 7.96l-1.37-1.37c-.4-.4-.92-.59-1.43-.59-.52 0-1.04.2-1.43.59L10.3 9.45l-7.72 7.72c-.78.78-.78 2.05 0 2.83L4 21.41c.39.39.9.59 1.41.59.51 0 1.02-.2 1.41-.59l7.78-7.78 2.81-2.81c.8-.78.8-2.07 0-2.86zM5.41 20L4 18.59l7.72-7.72 1.47 1.35L5.41 20z\"/>\n",
              "  </svg>\n",
              "      </button>\n",
              "      \n",
              "  <style>\n",
              "    .colab-df-container {\n",
              "      display:flex;\n",
              "      flex-wrap:wrap;\n",
              "      gap: 12px;\n",
              "    }\n",
              "\n",
              "    .colab-df-convert {\n",
              "      background-color: #E8F0FE;\n",
              "      border: none;\n",
              "      border-radius: 50%;\n",
              "      cursor: pointer;\n",
              "      display: none;\n",
              "      fill: #1967D2;\n",
              "      height: 32px;\n",
              "      padding: 0 0 0 0;\n",
              "      width: 32px;\n",
              "    }\n",
              "\n",
              "    .colab-df-convert:hover {\n",
              "      background-color: #E2EBFA;\n",
              "      box-shadow: 0px 1px 2px rgba(60, 64, 67, 0.3), 0px 1px 3px 1px rgba(60, 64, 67, 0.15);\n",
              "      fill: #174EA6;\n",
              "    }\n",
              "\n",
              "    [theme=dark] .colab-df-convert {\n",
              "      background-color: #3B4455;\n",
              "      fill: #D2E3FC;\n",
              "    }\n",
              "\n",
              "    [theme=dark] .colab-df-convert:hover {\n",
              "      background-color: #434B5C;\n",
              "      box-shadow: 0px 1px 3px 1px rgba(0, 0, 0, 0.15);\n",
              "      filter: drop-shadow(0px 1px 2px rgba(0, 0, 0, 0.3));\n",
              "      fill: #FFFFFF;\n",
              "    }\n",
              "  </style>\n",
              "\n",
              "      <script>\n",
              "        const buttonEl =\n",
              "          document.querySelector('#df-8763aa4a-c967-4973-ab87-93f920b245c9 button.colab-df-convert');\n",
              "        buttonEl.style.display =\n",
              "          google.colab.kernel.accessAllowed ? 'block' : 'none';\n",
              "\n",
              "        async function convertToInteractive(key) {\n",
              "          const element = document.querySelector('#df-8763aa4a-c967-4973-ab87-93f920b245c9');\n",
              "          const dataTable =\n",
              "            await google.colab.kernel.invokeFunction('convertToInteractive',\n",
              "                                                     [key], {});\n",
              "          if (!dataTable) return;\n",
              "\n",
              "          const docLinkHtml = 'Like what you see? Visit the ' +\n",
              "            '<a target=\"_blank\" href=https://colab.research.google.com/notebooks/data_table.ipynb>data table notebook</a>'\n",
              "            + ' to learn more about interactive tables.';\n",
              "          element.innerHTML = '';\n",
              "          dataTable['output_type'] = 'display_data';\n",
              "          await google.colab.output.renderOutput(dataTable, element);\n",
              "          const docLink = document.createElement('div');\n",
              "          docLink.innerHTML = docLinkHtml;\n",
              "          element.appendChild(docLink);\n",
              "        }\n",
              "      </script>\n",
              "    </div>\n",
              "  </div>\n",
              "  "
            ]
          },
          "metadata": {}
        }
      ],
      "source": [
        "#━━━━━━━━━━━━━━━❮◆❯━━━━━━━━━━━━━━━━\n",
        "#            Predição\n",
        "#━━━━━━━━━━━━━━━❮◆❯━━━━━━━━━━━━━━━━\n",
        "\n",
        "pred_val =rf_model.predict(val)\n",
        "print(pred_val)\n",
        "\n",
        "\n",
        "y_pred =[]\n",
        "\n",
        "for i in pred_val:\n",
        "  if i>0.5:\n",
        "    y_pred.append(1)\n",
        "  else:\n",
        "    y_pred.append(0)\n",
        "\n",
        "cliente =df_val['customerID']\n",
        "real =df_val['Churn']\n",
        "pred =list(pred_val.flatten())\n",
        "\n",
        "df =pd.DataFrame({'cliente' :cliente, 'previsão' :pred, 'real' :real, 'churn' :y_pred})\n",
        "\n",
        "display(df)"
      ]
    },
    {
      "cell_type": "code",
      "execution_count": null,
      "metadata": {
        "colab": {
          "base_uri": "https://localhost:8080/",
          "height": 283
        },
        "id": "H6Gth8JgIn0m",
        "outputId": "ee1eedb2-c6b1-444e-9364-48bc3e2c0b31"
      },
      "outputs": [
        {
          "output_type": "display_data",
          "data": {
            "text/plain": [
              "<Figure size 432x288 with 2 Axes>"
            ],
            "image/png": "[encoded data removed]"
          },
          "metadata": {
            "needs_background": "light"
          }
        }
      ],
      "source": [
        "#━━━━━━━━━━━━━━━❮◆❯━━━━━━━━━━━━━━━━\n",
        "#         Matriz de confusão\n",
        "#━━━━━━━━━━━━━━━❮◆❯━━━━━━━━━━━━━━━━\n",
        "\n",
        "df =pd.DataFrame(df, columns=['real', 'churn'])\n",
        "matrix_cnf =pd.crosstab(df['real'], df['churn'], rownames=['real'], colnames=['churns'])\n",
        "\n",
        "sns.heatmap(matrix_cnf, annot=True).figure.savefig(\"matrix cnf.png\")"
      ]
    },
    {
      "cell_type": "code",
      "execution_count": null,
      "metadata": {
        "id": "lxYGSEjPIn0n"
      },
      "outputs": [],
      "source": [
        "#━━━━━━━━━━━━━━━❮◆❯━━━━━━━━━━━━━━━━\n",
        "#        Arrumando Data\n",
        "#━━━━━━━━━━━━━━━❮◆❯━━━━━━━━━━━━━━━━\n",
        "\n",
        "data =str(datetime.date.today())\n",
        "\n",
        "dia =data[8:]\n",
        "mes =data[5:7]\n",
        "ano =data[:4]\n",
        "\n",
        "\n",
        "relt ='Relatório Churn {}-{}-{}'.format(dia, mes,ano)"
      ]
    },
    {
      "cell_type": "code",
      "execution_count": null,
      "metadata": {
        "colab": {
          "base_uri": "https://localhost:8080/"
        },
        "id": "NDLDne9BIn0n",
        "outputId": "1b9f3cf6-3741-43fd-d835-63bcf349bd8b"
      },
      "outputs": [
        {
          "data": {
            "text/plain": [
              "<aspose.words.saving.SaveOutputParameters object at 0x000001DE9CE3F910>"
            ]
          },
          "execution_count": 22,
          "metadata": {},
          "output_type": "execute_result"
        }
      ],
      "source": [
        "#━━━━━━━━━━━━━━━❮◆❯━━━━━━━━━━━━━━━━\n",
        "#             Relatório\n",
        "#━━━━━━━━━━━━━━━❮◆❯━━━━━━━━━━━━━━━━\n",
        "\n",
        "\n",
        "#━━━━━━━━❮Abrindo Arquivo❯━━━━━━━━━\n",
        "arquivo =Document()\n",
        "#━━━━━━━━━━━━━━━❮◆❯━━━━━━━━━━━━━━━━\n",
        "\n",
        "\n",
        "#━━━━━━━━━━━━━❮Titulo❯━━━━━━━━━━━━━\n",
        "arquivo.add_heading(\"Relatório de Churn                {}/{}/{}\".format(dia, mes,ano), 0)\n",
        "arquivo.add_paragraph('')\n",
        "#━━━━━━━━━━━━━━━❮◆❯━━━━━━━━━━━━━━━━\n",
        "\n",
        "#━━━━━━━━━━━━━❮Briefing❯━━━━━━━━━━━━━\n",
        "\n",
        "arquivo.add_paragraph('Este relatório foi feito de forma automática e visa auxiliar a tomada de decisão em relação a área de vendas e marketing da empresa.')\n",
        "arquivo.add_paragraph('                                                                    Documento realizado pelo software Ragnar, de autoria da SettLink')\n",
        "arquivo.add_paragraph('')\n",
        "\n",
        "\n",
        "arquivo.add_page_break()\n",
        "\n",
        "#━━━━━━━━❮Análise Gráfica 01❯━━━━━━━━━\n",
        "arquivo.add_paragraph('──────────────────────≪Análise Gráfica Inicial≫─────────────────────')\n",
        "arquivo.add_paragraph('')\n",
        "\n",
        "arquivo.add_paragraph('')\n",
        "arquivo.add_paragraph('Segundo as nossas analises, o tempo de permanencia do clinete é crucial para a fidelização do cliene, pois quanto mais tempo ele fica na empresa, menor a chance de churn.')\n",
        "arquivo.add_paragraph('*Gráfico citado abaixo*')\n",
        "\n",
        "\n",
        "arquivo.add_picture(\"graph Churn-churn.png\")\n",
        "\n",
        "#━━━━━━━━━━━━━━━❮Análise Gráfica 02❯━━━━━━━━━━━━━━━━\n",
        "arquivo.add_paragraph('')\n",
        "arquivo.add_paragraph('É possível ver também que não faz diferença se o responsável pelo plano tem algum dependente.')\n",
        "arquivo.add_paragraph('*Gráfico citado abaixo*')\n",
        "\n",
        "arquivo.add_picture(\"graph churn-dep .png\")\n",
        "\n",
        "#━━━━━━━━━━━━━━━❮Análise Gráfica 03❯━━━━━━━━━━━━━━━━\n",
        "arquivo.add_paragraph('')\n",
        "arquivo.add_paragraph('Os clientes com planos de US$80 -- US$100, tendem a serem menor convertidos no longo prazo.')\n",
        "arquivo.add_paragraph('*Gráfico citado abaixo*')\n",
        "\n",
        "arquivo.add_picture(\"graph churn-MC.png\")\n",
        "\n",
        "\n",
        "#━━━━━━━━━━━━━━━❮Análise Gráfica 04❯━━━━━━━━━━━━━━━━\n",
        "arquivo.add_paragraph('')\n",
        "arquivo.add_paragraph('Considerando estes fatores, é possível entender que a empresa teria uma maior fidelização de clientes se oferecessem mais vantagens nos planos de US$80 -- US$100.')\n",
        "arquivo.add_paragraph('Além disso, é muito importante melhorar as vantagens dos clientes logo no começo de sua experiência, pois é no começo que ocorre a maior perda de clientes da empresa')\n",
        "\n",
        "arquivo.add_paragraph('*Gráfico citado abaixo*')\n",
        "\n",
        "arquivo.add_picture(\"matrix cnf.png\")\n",
        "\n",
        "\n",
        "\n",
        "\n",
        "\n",
        "\n",
        "\n",
        "#━━━━━━━━❮Fechando Arquivo❯━━━━━━━━━\n",
        "arquivo.save(f'{relt}.docx')\n",
        "\n",
        "#files.download('{}.docx'.format(relt))\n",
        "#━━━━━━━━━━━━━━━❮◆❯━━━━━━━━━━━━━━━━\n",
        "\n",
        "\n",
        "doc = aw.Document(f'{relt}.docx')\n",
        "doc.save(f\"{relt}.pdf\")\n",
        "\n",
        "\n"
      ]
    },
    {
      "cell_type": "code",
      "execution_count": null,
      "metadata": {
        "id": "MxgjzjlrIn0o"
      },
      "outputs": [],
      "source": [
        "#━━━━━━━━━❮Fecha Arquivo❯━━━━━━━━━\n",
        "def fechaarq():\n",
        "    os.remove(\"graph Churn-churn.png\")\n",
        "    os.remove(\"graph churn-dep .png\")\n",
        "    os.remove(\"graph churn-MC.png\")\n",
        "    os.remove('matrix cnf.png')\n",
        "    os.remove(f'{relt}.docx')\n",
        "    os.remove(f'{relt}.pdf')\n",
        "    os.remove(f'Secure_{relt}.pdf')"
      ]
    },
    {
      "cell_type": "code",
      "execution_count": null,
      "metadata": {
        "colab": {
          "base_uri": "https://localhost:8080/"
        },
        "id": "QFfDjJjVIn0o",
        "outputId": "b3595592-9523-4c72-fd7f-e1fd84e6db11"
      },
      "outputs": [
        {
          "name": "stdout",
          "output_type": "stream",
          "text": [
            "Secure_Relatório Churn 19-10-2022 Created...\n"
          ]
        }
      ],
      "source": [
        "#━━━━━━❮Adicionando Segurança❯━━━━━━━\n",
        "def secpdf(file, password):\n",
        "    parser =PdfFileWriter()\n",
        "    pdf =PdfFileReader(f\"{relt}.pdf\")\n",
        "    for page in range(pdf.numPages):\n",
        "        parser.addPage(pdf.getPage(page))\n",
        "    parser.encrypt(password)\n",
        "    \n",
        "    with open(f'Secure_{relt}.pdf', 'wb') as f:\n",
        "        parser.write(f)\n",
        "        f.close()\n",
        "    print(f'Secure_{relt} Created...')\n",
        "    \n",
        "if __name__ == \"__main__\":\n",
        "    file =sys.argv[1]\n",
        "    password = 'senha'\n",
        "    secpdf(file, password)\n",
        "    \n",
        "        "
      ]
    },
    {
      "cell_type": "code",
      "execution_count": null,
      "metadata": {
        "id": "4D9prDnXIn0o"
      },
      "outputs": [],
      "source": [
        "#━━━━━━━━❮envio do Email❯━━━━━━━━━\n",
        "def enviar_email():\n",
        "    time.sleep(1)\n",
        "    body = f\"\"\"\n",
        "    Segue o {relt}\n",
        "    \n",
        "    A SettLink agradece a preferência, conte conosco sobre qualquer duvida!\n",
        "    \"\"\"\n",
        "\n",
        "    sender = 'settlinksp@gmail.com'\n",
        "    password = 'jmolibocyyhmgqxv'\n",
        "    receiver = email\n",
        "\n",
        "\n",
        "    message = MIMEMultipart()\n",
        "    message['From'] = sender\n",
        "    message['To'] = receiver\n",
        "    message['Subject'] = relt\n",
        "\n",
        "    message.attach(MIMEText(body, 'plain'))\n",
        "\n",
        "    pdfname = f'Secure_{relt}.pdf'\n",
        "\n",
        "\n",
        "    binary_pdf = open(pdfname, 'rb')\n",
        "\n",
        "    payload = MIMEBase('application', 'octate-stream', Name=pdfname)\n",
        "    payload.set_payload((binary_pdf).read())\n",
        "\n",
        "    encoders.encode_base64(payload)\n",
        "\n",
        "    payload.add_header('Content-Decomposition', 'attachment', filename=pdfname)\n",
        "    message.attach(payload)\n",
        "\n",
        "    session = smtplib.SMTP('smtp.gmail.com', 587)\n",
        "\n",
        "    session.starttls()\n",
        "\n",
        "    session.login(sender, password)\n",
        "\n",
        "    text = message.as_string()\n",
        "    session.sendmail(sender, receiver, text)\n",
        "    session.quit()\n",
        "    print('200')\n",
        "    time.sleep(1)\n",
        "#━━━━━━━━━━━━━━━❮◆❯━━━━━━━━━━━━━━━━"
      ]
    },
    {
      "cell_type": "code",
      "execution_count": null,
      "metadata": {
        "colab": {
          "base_uri": "https://localhost:8080/"
        },
        "id": "I9VsGjnjIn0p",
        "outputId": "3ccb6538-a7c7-430d-d916-cc85c1b91bc0"
      },
      "outputs": [
        {
          "name": "stdout",
          "output_type": "stream",
          "text": [
            "200\n"
          ]
        }
      ],
      "source": [
        "#━━━━━━❮Execução das funções❯━━━━━━━\n",
        "enviar_email()\n",
        "fechaarq()"
      ]
    },
    {
      "cell_type": "code",
      "execution_count": null,
      "metadata": {
        "colab": {
          "base_uri": "https://localhost:8080/"
        },
        "id": "EWSmd1cxIn0p",
        "outputId": "b4847766-0e34-429e-8925-71100f8eb896"
      },
      "outputs": [
        {
          "output_type": "execute_result",
          "data": {
            "text/plain": [
              "['model']"
            ]
          },
          "metadata": {},
          "execution_count": 30
        }
      ],
      "source": [
        "#━━━━━━❮Salvando Modelo❯━━━━━━━\n",
        "joblib.dump(rf_model, 'model')"
      ]
    }
  ],
  "metadata": {
    "colab": {
      "provenance": []
    },
    "kernelspec": {
      "display_name": "Python 3.9.12 ('base')",
      "language": "python",
      "name": "python3"
    },
    "language_info": {
      "codemirror_mode": {
        "name": "ipython",
        "version": 3
      },
      "file_extension": ".py",
      "mimetype": "text/x-python",
      "name": "python",
      "nbconvert_exporter": "python",
      "pygments_lexer": "ipython3",
      "version": "3.9.12"
    },
    "orig_nbformat": 4,
    "vscode": {
      "interpreter": {
        "hash": "c9b11055aabbe5831bceda66bd7c90480ec32ff2ac7d8efcaa134baa16fe25e4"
      }
    }
  },
  "nbformat": 4,
  "nbformat_minor": 0
}