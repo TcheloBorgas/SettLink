{
 "cells": [
  {
   "cell_type": "code",
   "execution_count": 2,
   "metadata": {},
   "outputs": [
    {
     "name": "stdout",
     "output_type": "stream",
     "text": [
      " * Serving Flask app \"__main__\" (lazy loading)\n",
      " * Environment: production\n",
      "\u001b[31m   WARNING: This is a development server. Do not use it in a production deployment.\u001b[0m\n",
      "\u001b[2m   Use a production WSGI server instead.\u001b[0m\n",
      " * Debug mode: on\n"
     ]
    },
    {
     "name": "stderr",
     "output_type": "stream",
     "text": [
      " * Restarting with watchdog (windowsapi)\n"
     ]
    },
    {
     "ename": "SystemExit",
     "evalue": "1",
     "output_type": "error",
     "traceback": [
      "An exception has occurred, use %tb to see the full traceback.\n",
      "\u001b[1;31mSystemExit\u001b[0m\u001b[1;31m:\u001b[0m 1\n"
     ]
    },
    {
     "name": "stderr",
     "output_type": "stream",
     "text": [
      "d:\\Hands on code (IDEs)\\Anaconda\\lib\\site-packages\\IPython\\core\\interactiveshell.py:3377: UserWarning: To exit: use 'exit', 'quit', or Ctrl-D.\n",
      "  warn(\"To exit: use 'exit', 'quit', or Ctrl-D.\", stacklevel=1)\n"
     ]
    }
   ],
   "source": [
    "\n",
    "\n",
    "from flask import Flask, request, render_template\n",
    "\n",
    "PEOPLE_FOLDER = os.path.join('static', 'flowers')\n",
    "\n",
    "\n",
    "app = Flask(__name__)\n",
    "\n",
    "app.config['UPLOAD_FOLDER'] = PEOPLE_FOLDER\n",
    "\n",
    "model = joblib.load('modelo')\n",
    "\n",
    "def iris(sepal_length,\tsepal_width, petal_length,petal_width):\n",
    "    data = np.array(['setosa', 'versicolor', 'virginica'])\n",
    "    x = np.array([sepal_length,\tsepal_width, petal_length,petal_width\t])\n",
    "    x = x.reshape((1,4))\n",
    "    x = pd.DataFrame(x, columns=['sepal length (cm)',\n",
    "    'sepal width (cm)',\n",
    "    'petal length (cm)',\n",
    "    'petal width (cm)'])\n",
    "    flor =  model.predict(x)[0]\n",
    "    return data[flor]\n",
    "\n",
    "@app.route('/hello', methods=['GET'])\n",
    "def HelloWorld():\n",
    "    return 'Hello World'\n",
    "\n",
    "@app.route('/', methods=['GET', 'POST'])\n",
    "def home():\n",
    "    pred = None\n",
    "    if request.method == 'POST':\n",
    "        sl = np.float(request.form.get('sl'))\n",
    "        sw = np.float(request.form.get('sw'))\n",
    "        pl = np.float(request.form.get('pl'))\n",
    "        pw = np.float(request.form.get('pw'))\n",
    "        pred = iris(sl,sw,pl,pw)\n",
    "\n",
    "    full_filename = os.path.join(app.config['UPLOAD_FOLDER'], f'{pred}.jpg')\n",
    "    # return render_template(\"index.html\", full_image = full_filename)\n",
    "    return render_template('index.html', pred=pred, full_image = full_filename)\n",
    "\n",
    "@app.route('/predict', methods=['POST'])\n",
    "def predict():\n",
    "    event = json.loads(request.data)\n",
    "    values = event['values']\n",
    "    values = list(map(np.float, values))\n",
    "    pred = iris(*values)\n",
    "    return pred\n",
    "\n",
    "if __name__ == '__main__':\n",
    "    app.run(debug=True)"
   ]
  }
 ],
 "metadata": {
  "kernelspec": {
   "display_name": "Python 3.9.12 ('base')",
   "language": "python",
   "name": "python3"
  },
  "language_info": {
   "codemirror_mode": {
    "name": "ipython",
    "version": 3
   },
   "file_extension": ".py",
   "mimetype": "text/x-python",
   "name": "python",
   "nbconvert_exporter": "python",
   "pygments_lexer": "ipython3",
   "version": "3.9.12"
  },
  "orig_nbformat": 4,
  "vscode": {
   "interpreter": {
    "hash": "c9b11055aabbe5831bceda66bd7c90480ec32ff2ac7d8efcaa134baa16fe25e4"
   }
  }
 },
 "nbformat": 4,
 "nbformat_minor": 2
}
