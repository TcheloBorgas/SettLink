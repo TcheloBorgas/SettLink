{
 "cells": [
  {
   "cell_type": "code",
   "execution_count": 2,
   "metadata": {},
   "outputs": [
    {
     "name": "stdout",
     "output_type": "stream",
     "text": [
      "setosa\n"
     ]
    }
   ],
   "source": [
    "import joblib\n",
    "import numpy as np\n",
    "import pandas as pd\n",
    "\n",
    "model = joblib.load('modelo')\n",
    "\n",
    "def iris(sepal_length,\tsepal_width, petal_length,petal_width):\n",
    "    data = np.array(['setosa', 'versicolor', 'virginica'])\n",
    "    x = np.array([sepal_length,\tsepal_width, petal_length,petal_width\t])\n",
    "    x = x.reshape((1,4))\n",
    "    x = pd.DataFrame(x, columns=['sepal length (cm)',\n",
    "    'sepal width (cm)',\n",
    "    'petal length (cm)',\n",
    "    'petal width (cm)'])\n",
    "    flor =  model.predict(x)[0]\n",
    "    return data[flor]\n",
    "\n",
    "print(iris(5.9, 9.0, 5.1, 1.8))"
   ]
  }
 ],
 "metadata": {
  "kernelspec": {
   "display_name": "Python 3.9.12 ('base')",
   "language": "python",
   "name": "python3"
  },
  "language_info": {
   "codemirror_mode": {
    "name": "ipython",
    "version": 3
   },
   "file_extension": ".py",
   "mimetype": "text/x-python",
   "name": "python",
   "nbconvert_exporter": "python",
   "pygments_lexer": "ipython3",
   "version": "3.9.12"
  },
  "orig_nbformat": 4,
  "vscode": {
   "interpreter": {
    "hash": "c9b11055aabbe5831bceda66bd7c90480ec32ff2ac7d8efcaa134baa16fe25e4"
   }
  }
 },
 "nbformat": 4,
 "nbformat_minor": 2
}
