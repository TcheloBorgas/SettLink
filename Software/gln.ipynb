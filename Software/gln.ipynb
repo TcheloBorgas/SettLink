{
 "cells": [
  {
   "cell_type": "code",
   "execution_count": 2,
   "metadata": {},
   "outputs": [],
   "source": [
    "#━━━━━━━━━❮Bibliotecas❯━━━━━━━━━\n",
    "import cv2\n",
    "#━━━━━━━━━━━━━━❮◆❯━━━━━━━━━━━━━━"
   ]
  },
  {
   "cell_type": "code",
   "execution_count": 3,
   "metadata": {},
   "outputs": [
    {
     "name": "stdout",
     "output_type": "stream",
     "text": [
      "(200, 399, 174, 348)\n"
     ]
    },
    {
     "ename": "AttributeError",
     "evalue": "module 'cv2' has no attribute 'TrackerCSRT_create'",
     "output_type": "error",
     "traceback": [
      "\u001b[1;31m---------------------------------------------------------------------------\u001b[0m",
      "\u001b[1;31mAttributeError\u001b[0m                            Traceback (most recent call last)",
      "\u001b[1;32mc:\\Users\\pytho\\OneDrive - Fundação Escola de Comércio Álvares Penteado\\00 Trabalhando\\00 SettLink\\01 Software\\Ragnar\\SettLink\\Software\\gln.ipynb Célula: 2\u001b[0m in \u001b[0;36m<cell line: 5>\u001b[1;34m()\u001b[0m\n\u001b[0;32m      <a href='vscode-notebook-cell:/c%3A/Users/pytho/OneDrive%20-%20Funda%C3%A7%C3%A3o%20Escola%20de%20Com%C3%A9rcio%20%C3%81lvares%20Penteado/00%20Trabalhando/00%20SettLink/01%20Software/Ragnar/SettLink/Software/gln.ipynb#W4sZmlsZQ%3D%3D?line=8'>9</a>\u001b[0m \u001b[39mprint\u001b[39m(box)\n\u001b[0;32m     <a href='vscode-notebook-cell:/c%3A/Users/pytho/OneDrive%20-%20Funda%C3%A7%C3%A3o%20Escola%20de%20Com%C3%A9rcio%20%C3%81lvares%20Penteado/00%20Trabalhando/00%20SettLink/01%20Software/Ragnar/SettLink/Software/gln.ipynb#W4sZmlsZQ%3D%3D?line=10'>11</a>\u001b[0m \u001b[39m#zona de pericia --> (45, 14, 517, 245)\u001b[39;00m\n\u001b[1;32m---> <a href='vscode-notebook-cell:/c%3A/Users/pytho/OneDrive%20-%20Funda%C3%A7%C3%A3o%20Escola%20de%20Com%C3%A9rcio%20%C3%81lvares%20Penteado/00%20Trabalhando/00%20SettLink/01%20Software/Ragnar/SettLink/Software/gln.ipynb#W4sZmlsZQ%3D%3D?line=12'>13</a>\u001b[0m tracker \u001b[39m=\u001b[39m cv2\u001b[39m.\u001b[39;49mTrackerCSRT_create()\n\u001b[0;32m     <a href='vscode-notebook-cell:/c%3A/Users/pytho/OneDrive%20-%20Funda%C3%A7%C3%A3o%20Escola%20de%20Com%C3%A9rcio%20%C3%81lvares%20Penteado/00%20Trabalhando/00%20SettLink/01%20Software/Ragnar/SettLink/Software/gln.ipynb#W4sZmlsZQ%3D%3D?line=13'>14</a>\u001b[0m tracker\u001b[39m.\u001b[39minit(baly, box)\n\u001b[0;32m     <a href='vscode-notebook-cell:/c%3A/Users/pytho/OneDrive%20-%20Funda%C3%A7%C3%A3o%20Escola%20de%20Com%C3%A9rcio%20%C3%81lvares%20Penteado/00%20Trabalhando/00%20SettLink/01%20Software/Ragnar/SettLink/Software/gln.ipynb#W4sZmlsZQ%3D%3D?line=16'>17</a>\u001b[0m \u001b[39mwhile\u001b[39;00m cap\u001b[39m.\u001b[39misOpened():\n",
      "\u001b[1;31mAttributeError\u001b[0m: module 'cv2' has no attribute 'TrackerCSRT_create'"
     ]
    },
    {
     "ename": "",
     "evalue": "",
     "output_type": "error",
     "traceback": [
      "O Kernel falhou ao executar o código na célula atual ou em uma célula anterior. Examine o código nas células para identificar uma possível causa da falha. Clique <a href=\"https://aka.ms/vscodeJupyterKernelCrash\">aqui</a> para obter mais informações. Consulte o <a href='command:jupyter.viewOutput'>log</a> do Jupyter para obter mais detalhes."
     ]
    }
   ],
   "source": [
    "#━━━━━━━━━❮Upload❯━━━━━━━━━\n",
    "video ='Doom Eternal 2021.12.10 - 17.58.51.02.mp4'\n",
    "cap =cv2.VideoCapture(video)\n",
    "\n",
    "if __name__ =='__main__':\n",
    "    \n",
    "    baly =cv2.imread('Screenshot 2022-08-30 190221.png')\n",
    "    box =cv2.selectROI('select roi', baly, fromCenter=False)\n",
    "    print(box)\n",
    "    \n",
    "    #zona de pericia --> (45, 14, 517, 245)\n",
    "    \n",
    "    tracker = cv2.TrackerCSRT_create()\n",
    "    tracker.init(baly, box)\n",
    "    \n",
    "    \n",
    "    while cap.isOpened():\n",
    "        ret, frame =cap.read()\n",
    "        \n",
    "        if not ret:\n",
    "            break\n",
    "        ok, box =tracker.update(frame)\n",
    "        \n",
    "        if ok:\n",
    "            pt =box[0], box[1]\n",
    "            pt2 =((box[0] +box[2]), box[1] +box[3])\n",
    "            cv2.rectangle(frame, pt, pt2, (255, 0, 0), 2, 1)\n",
    "        \n",
    "        else:\n",
    "            print('Falhou')  \n",
    "        \n",
    "        cv2.imshow('tracking', frame)\n",
    "        \n",
    "        if cv2.waitKey(1) ==27:\n",
    "            break\n",
    "    cv2.destroyAllWindows()\n",
    "    \n",
    "\n",
    "    \n",
    "    "
   ]
  }
 ],
 "metadata": {
  "kernelspec": {
   "display_name": "Python 3.9.12 ('base')",
   "language": "python",
   "name": "python3"
  },
  "language_info": {
   "codemirror_mode": {
    "name": "ipython",
    "version": 3
   },
   "file_extension": ".py",
   "mimetype": "text/x-python",
   "name": "python",
   "nbconvert_exporter": "python",
   "pygments_lexer": "ipython3",
   "version": "3.9.12"
  },
  "orig_nbformat": 4,
  "vscode": {
   "interpreter": {
    "hash": "c9b11055aabbe5831bceda66bd7c90480ec32ff2ac7d8efcaa134baa16fe25e4"
   }
  }
 },
 "nbformat": 4,
 "nbformat_minor": 2
}
