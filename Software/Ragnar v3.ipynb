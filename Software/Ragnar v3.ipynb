{
 "cells": [
  {
   "cell_type": "code",
   "execution_count": 2,
   "metadata": {},
   "outputs": [
    {
     "name": "stdout",
     "output_type": "stream",
     "text": [
      "^C\n"
     ]
    }
   ],
   "source": [
    "!pip install tensorflow"
   ]
  },
  {
   "cell_type": "code",
   "execution_count": 1,
   "metadata": {},
   "outputs": [
    {
     "ename": "ModuleNotFoundError",
     "evalue": "No module named 'tensorflow'",
     "output_type": "error",
     "traceback": [
      "\u001b[1;31m---------------------------------------------------------------------------\u001b[0m",
      "\u001b[1;31mModuleNotFoundError\u001b[0m                       Traceback (most recent call last)",
      "\u001b[1;32mc:\\Users\\pytho\\OneDrive - Fundação Escola de Comércio Álvares Penteado\\00 Trabalhando\\00 SettLink\\01 Software\\Ragnar\\SettLink\\Software\\Ragnar v3.ipynb Célula: 1\u001b[0m in \u001b[0;36m<cell line: 5>\u001b[1;34m()\u001b[0m\n\u001b[0;32m      <a href='vscode-notebook-cell:/c%3A/Users/pytho/OneDrive%20-%20Funda%C3%A7%C3%A3o%20Escola%20de%20Com%C3%A9rcio%20%C3%81lvares%20Penteado/00%20Trabalhando/00%20SettLink/01%20Software/Ragnar/SettLink/Software/Ragnar%20v3.ipynb#W0sZmlsZQ%3D%3D?line=2'>3</a>\u001b[0m \u001b[39mimport\u001b[39;00m \u001b[39mmatplotlib\u001b[39;00m\u001b[39m.\u001b[39;00m\u001b[39mpyplot\u001b[39;00m \u001b[39mas\u001b[39;00m \u001b[39mplt\u001b[39;00m\n\u001b[0;32m      <a href='vscode-notebook-cell:/c%3A/Users/pytho/OneDrive%20-%20Funda%C3%A7%C3%A3o%20Escola%20de%20Com%C3%A9rcio%20%C3%81lvares%20Penteado/00%20Trabalhando/00%20SettLink/01%20Software/Ragnar/SettLink/Software/Ragnar%20v3.ipynb#W0sZmlsZQ%3D%3D?line=3'>4</a>\u001b[0m \u001b[39mimport\u001b[39;00m \u001b[39mnumpy\u001b[39;00m \u001b[39mas\u001b[39;00m \u001b[39mnp\u001b[39;00m\n\u001b[1;32m----> <a href='vscode-notebook-cell:/c%3A/Users/pytho/OneDrive%20-%20Funda%C3%A7%C3%A3o%20Escola%20de%20Com%C3%A9rcio%20%C3%81lvares%20Penteado/00%20Trabalhando/00%20SettLink/01%20Software/Ragnar/SettLink/Software/Ragnar%20v3.ipynb#W0sZmlsZQ%3D%3D?line=4'>5</a>\u001b[0m \u001b[39mimport\u001b[39;00m \u001b[39mtensorflow\u001b[39;00m \u001b[39mas\u001b[39;00m \u001b[39mtf\u001b[39;00m\n\u001b[0;32m      <a href='vscode-notebook-cell:/c%3A/Users/pytho/OneDrive%20-%20Funda%C3%A7%C3%A3o%20Escola%20de%20Com%C3%A9rcio%20%C3%81lvares%20Penteado/00%20Trabalhando/00%20SettLink/01%20Software/Ragnar/SettLink/Software/Ragnar%20v3.ipynb#W0sZmlsZQ%3D%3D?line=5'>6</a>\u001b[0m \u001b[39mimport\u001b[39;00m \u001b[39mseaborn\u001b[39;00m \u001b[39mas\u001b[39;00m \u001b[39msns\u001b[39;00m\n\u001b[0;32m      <a href='vscode-notebook-cell:/c%3A/Users/pytho/OneDrive%20-%20Funda%C3%A7%C3%A3o%20Escola%20de%20Com%C3%A9rcio%20%C3%81lvares%20Penteado/00%20Trabalhando/00%20SettLink/01%20Software/Ragnar/SettLink/Software/Ragnar%20v3.ipynb#W0sZmlsZQ%3D%3D?line=6'>7</a>\u001b[0m \u001b[39mimport\u001b[39;00m \u001b[39mdatetime\u001b[39;00m\n",
      "\u001b[1;31mModuleNotFoundError\u001b[0m: No module named 'tensorflow'"
     ]
    }
   ],
   "source": [
    "#━━━━━━━━━❮Bibliotecas❯━━━━━━━━━\n",
    "import pandas as pd\n",
    "import matplotlib.pyplot as plt\n",
    "import numpy as np\n",
    "import tensorflow as tf\n",
    "import seaborn as sns\n",
    "import datetime\n",
    "#━━━━━━━━━━━━━━━━━━━━━━━━━━━━━━━\n",
    "from sklearn.preprocessing import MinMaxScaler, LabelEncoder\n",
    "from sklearn.model_selection import train_test_split\n",
    "from sklearn.metrics import confusion_matrix, classification_report\n",
    "from tensorflow import keras\n",
    "from tensorflow.keras.models import Sequential\n",
    "from tensorflow.keras.layers import Activation, Dense\n",
    "from tensorflow.keras.optimizers import Adam\n",
    "from tensorflow.keras.metrics import categorical_crossentropy\n",
    "\n",
    "from docx import Document\n",
    "#━━━━━━━━━━━━━━❮◆❯━━━━━━━━━━━━━━"
   ]
  },
  {
   "cell_type": "code",
   "execution_count": null,
   "metadata": {},
   "outputs": [],
   "source": [
    "#━━━━━━━━━❮initial data❯━━━━━━━━━\n",
    "df =pd.read_csv('WA_Fn-UseC_-Telco-Customer-Churn.csv')\n",
    "#━━━━━━━━━━━━━━❮◆❯━━━━━━━━━━━━━━\n",
    "\n",
    "\n",
    "#━━━━❮dados a serem previstos❯━━━\n",
    "df_val =df.iloc[:10]\n",
    "#━━━━━━━━━━━━━━❮◆❯━━━━━━━━━━━━━━\n",
    "\n",
    "#df_val.head(5)"
   ]
  },
  {
   "cell_type": "code",
   "execution_count": null,
   "metadata": {},
   "outputs": [],
   "source": [
    "#━━━━━━━━━━━━━━━❮◆❯━━━━━━━━━━━━━━━━\n",
    "#      treatment of data\n",
    "#━━━━━━━━━━━━━━━❮◆❯━━━━━━━━━━━━━━━━\n",
    "\n",
    "df.drop('customerID', 1, inplace=True)\n",
    "\n",
    "df.TotalCharges =pd.to_numeric(df.TotalCharges, errors='coerce')\n",
    "\n",
    "#Verificando valor vazio\n",
    "df[df.TotalCharges.isna()]\n",
    "\n",
    "#tirando valores vazios (totalcharges)\n",
    "df.dropna(subset=['TotalCharges'], inplace=True)\n",
    "\n",
    "#df.head(5)"
   ]
  },
  {
   "cell_type": "code",
   "execution_count": null,
   "metadata": {},
   "outputs": [],
   "source": [
    "#━━━━━━━━━━━━━━━❮◆❯━━━━━━━━━━━━━━━━\n",
    "#             Graficos\n",
    "#━━━━━━━━━━━━━━━❮◆❯━━━━━━━━━━━━━━━━\n",
    "\n",
    "\n",
    "#grafico analise de tenure\n",
    "#    tenure--> quantidade de meses q o cliente ta na empresa\n",
    "\n",
    "dfno =df[df.Churn=='No'].tenure\n",
    "dfyes =df[df.Churn=='Yes'].tenure\n",
    "\n",
    "plt.hist([dfno, dfyes], color=['blue','red'],label=['Churn =no', 'Churn =yes'])\n",
    "\n",
    "plt.legend()\n",
    "\n",
    "#━━━━━━━━━━━━━━━❮◆❯━━━━━━━━━━━━━━━━\n",
    "#        Salvando Relatório\n",
    "#━━━━━━━━━━━━━━━❮◆❯━━━━━━━━━━━━━━━━\n",
    "\n",
    "plt.savefig(\"graph 1.png\")"
   ]
  },
  {
   "cell_type": "code",
   "execution_count": null,
   "metadata": {},
   "outputs": [],
   "source": [
    "#━━━━━━━━━━━━━━━❮◆❯━━━━━━━━━━━━━━━━\n",
    "#             Graficos\n",
    "#━━━━━━━━━━━━━━━❮◆❯━━━━━━━━━━━━━━━━\n",
    "\n",
    "dfno =df[df.Churn=='No'].Dependents\n",
    "dfyes =df[df.Churn=='Yes'].Dependents\n",
    "\n",
    "plt.hist([dfno, dfyes], color=['blue','red'],label=['Churn =no', 'Churn =yes'])\n",
    "plt.legend()\n",
    "\n",
    "#━━━━━━━━━━━━━━━❮◆❯━━━━━━━━━━━━━━━━\n",
    "#        Salvando Relatório\n",
    "#━━━━━━━━━━━━━━━❮◆❯━━━━━━━━━━━━━━━━\n",
    "\n",
    "\n",
    "\n",
    "plt.savefig(\"graph 2.png\")"
   ]
  },
  {
   "cell_type": "code",
   "execution_count": null,
   "metadata": {},
   "outputs": [],
   "source": [
    "#━━━━━━━━━━━━━━━❮◆❯━━━━━━━━━━━━━━━━\n",
    "#             Graficos\n",
    "#━━━━━━━━━━━━━━━❮◆❯━━━━━━━━━━━━━━━━\n",
    "\n",
    "dfno =df[df.Churn=='No'].MonthlyCharges\t\n",
    "dfyes =df[df.Churn=='Yes'].MonthlyCharges\t\n",
    "\n",
    "plt.hist([dfno, dfyes], color=['blue','red'],label=['Churn =no', 'Churn =yes'])\n",
    "plt.legend()\n",
    "\n",
    "\n",
    "#━━━━━━━━━━━━━━━❮◆❯━━━━━━━━━━━━━━━━\n",
    "#        Salvando Relatório\n",
    "#━━━━━━━━━━━━━━━❮◆❯━━━━━━━━━━━━━━━━\n",
    "\n",
    "plt.savefig(\"graph 3.png\")"
   ]
  },
  {
   "cell_type": "code",
   "execution_count": null,
   "metadata": {},
   "outputs": [],
   "source": [
    "#━━━━━━━━━━━━━━━❮◆❯━━━━━━━━━━━━━━━━\n",
    "#    balanceamento do dataset\n",
    "#━━━━━━━━━━━━━━━❮◆❯━━━━━━━━━━━━━━━━\n",
    "\n",
    "dfno =df[df.Churn=='No'].Churn\t\n",
    "dfyes =df[df.Churn=='Yes'].Churn\n",
    "\n",
    "total =dfno.count() +dfyes.count()\n",
    "percent =round((df.count() /total)*100, 2)\n",
    "\n",
    "print(f'No: {dfno.count()}',f'Yes: {dfyes.count()}', f' % No: {percent}')\n",
    "\n",
    "#Plotagem\n",
    "\n",
    "plt.hist([dfno, dfyes], color=['blue','red'],label=['Churn =no', 'Churn =yes'])\n",
    "plt.legend()"
   ]
  },
  {
   "cell_type": "code",
   "execution_count": null,
   "metadata": {},
   "outputs": [],
   "source": [
    "#━━━━━━━━━━━━━━━❮◆❯━━━━━━━━━━━━━━━━\n",
    "#    padronizando multiplanelines\n",
    "#━━━━━━━━━━━━━━━❮◆❯━━━━━━━━━━━━━━━━\n",
    "\n",
    "for i in df:\n",
    "  if df[i].dtypes =='object':\n",
    "    print(f'{i} : {df[i].unique()}')\n",
    "    \n",
    "df.replace('No internet service', 'No', inplace=True)\n",
    "df.replace('No phone service', 'No', inplace=True)"
   ]
  },
  {
   "cell_type": "code",
   "execution_count": null,
   "metadata": {},
   "outputs": [],
   "source": [
    "#━━━━━━━━━━━━━━━❮◆❯━━━━━━━━━━━━━━━━\n",
    "#       Mudando para Números\n",
    "#━━━━━━━━━━━━━━━❮◆❯━━━━━━━━━━━━━━━━\n",
    "\n",
    "dfnum =pd.get_dummies(data=df, columns=['gender', 'InternetService', 'Partner', 'Dependents', 'PhoneService',\n",
    "                      'MultipleLines', 'InternetService', 'OnlineSecurity', 'OnlineBackup',\n",
    "                      'DeviceProtection', 'TechSupport', 'StreamingTV', 'StreamingMovies', 'Contract',\n",
    "                      'PaperlessBilling','PaymentMethod'])\n",
    "dfnum.columns"
   ]
  },
  {
   "cell_type": "code",
   "execution_count": null,
   "metadata": {},
   "outputs": [],
   "source": [
    "#━━━━━━━━━━━━━━━❮◆❯━━━━━━━━━━━━━━━━\n",
    "#           label encoder\n",
    "#━━━━━━━━━━━━━━━❮◆❯━━━━━━━━━━━━━━━━\n",
    "\n",
    "le =LabelEncoder()\n",
    "dfnum['Churn'] =le.fit_transform(dfnum['Churn'])\n",
    "dfnum.Churn.sample(15)"
   ]
  },
  {
   "cell_type": "code",
   "execution_count": null,
   "metadata": {},
   "outputs": [],
   "source": [
    "#━━━━━━━━━━━━━━━❮◆❯━━━━━━━━━━━━━━━━\n",
    "#         Ajuste de Escala\n",
    "#━━━━━━━━━━━━━━━❮◆❯━━━━━━━━━━━━━━━━\n",
    "\n",
    "scaler =MinMaxScaler()\n",
    "dfnum[['tenure', 'MonthlyCharges', 'TotalCharges']] =scaler.fit_transform(dfnum[['tenure', 'MonthlyCharges','TotalCharges']])\n",
    "#dfnum.sample(5)"
   ]
  },
  {
   "cell_type": "code",
   "execution_count": null,
   "metadata": {},
   "outputs": [],
   "source": [
    "#━━━━━━━━━━━━━━━❮◆❯━━━━━━━━━━━━━━━━\n",
    "#     separar features e labels\n",
    "#━━━━━━━━━━━━━━━❮◆❯━━━━━━━━━━━━━━━━\n",
    "\n",
    "features =dfnum.drop(['Churn'], 1)\n",
    "label =dfnum['Churn']"
   ]
  },
  {
   "cell_type": "code",
   "execution_count": null,
   "metadata": {},
   "outputs": [],
   "source": [
    "#━━━━━━━━━━━━━━━❮◆❯━━━━━━━━━━━━━━━━\n",
    "#             Validação\n",
    "#━━━━━━━━━━━━━━━❮◆❯━━━━━━━━━━━━━━━━\n",
    "\n",
    "val =features.head(10)\n",
    "val.head(5)"
   ]
  },
  {
   "cell_type": "code",
   "execution_count": null,
   "metadata": {},
   "outputs": [],
   "source": [
    "#━━━━━━━━━━━━━━━❮◆❯━━━━━━━━━━━━━━━━\n",
    "#           Novo Feature\n",
    "#━━━━━━━━━━━━━━━❮◆❯━━━━━━━━━━━━━━━━\n",
    "\n",
    "features =features.iloc[10:]\n",
    "label =label.iloc[10:]"
   ]
  },
  {
   "cell_type": "code",
   "execution_count": null,
   "metadata": {},
   "outputs": [],
   "source": [
    "#━━━━━━━━━━━━━━━❮◆❯━━━━━━━━━━━━━━━━\n",
    "#         Treino & Teste\n",
    "#━━━━━━━━━━━━━━━❮◆❯━━━━━━━━━━━━━━━━\n",
    "\n",
    "X_train, X_test, y_train, y_test =train_test_split(features, label, test_size=20, random_state=42)\n",
    "\n",
    "\n",
    "print(X_train.shape, y_train.shape)\n",
    "\n",
    "\n",
    "model =Sequential([\n",
    "    Dense(20, input_shape=(41,), activation ='relu'),\n",
    "    Dense(52, activation ='relu'),\n",
    "    Dense(1, activation ='sigmoid')\n",
    "])\n",
    "\n",
    "#parametro de execução\n",
    "model.compile(optimizer ='adam',\n",
    "              loss ='binary_crossentropy',\n",
    "              metrics =['accuracy'])"
   ]
  },
  {
   "cell_type": "code",
   "execution_count": null,
   "metadata": {},
   "outputs": [],
   "source": [
    "#━━━━━━━━━━━━━━━❮◆❯━━━━━━━━━━━━━━━━\n",
    "#            Treinamento\n",
    "#━━━━━━━━━━━━━━━❮◆❯━━━━━━━━━━━━━━━━\n",
    "\n",
    "model.fit(X_train, y_train, epochs =300)"
   ]
  },
  {
   "cell_type": "code",
   "execution_count": null,
   "metadata": {},
   "outputs": [],
   "source": [
    "#━━━━━━━━━━━━━━━❮◆❯━━━━━━━━━━━━━━━━\n",
    "#            Predição\n",
    "#━━━━━━━━━━━━━━━❮◆❯━━━━━━━━━━━━━━━━\n",
    "\n",
    "pred_val =model.predict(val)\n",
    "print(pred_val)\n",
    "\n",
    "\n",
    "y_pred =[]\n",
    "\n",
    "for i in pred_val:\n",
    "  if i>0.5:\n",
    "    y_pred.append(1)\n",
    "  else:\n",
    "    y_pred.append(0)\n",
    "\n",
    "cliente =df_val['customerID']\n",
    "real =df_val['Churn']\n",
    "pred =list(pred_val.flatten())\n",
    "\n",
    "df =pd.DataFrame({'cliente' :cliente, 'previsão' :pred, 'real' :real, 'churn' :y_pred})\n",
    "\n",
    "print(df)"
   ]
  },
  {
   "cell_type": "code",
   "execution_count": null,
   "metadata": {},
   "outputs": [],
   "source": [
    "#━━━━━━━━━━━━━━━❮◆❯━━━━━━━━━━━━━━━━\n",
    "#         Matriz de confusão\n",
    "#━━━━━━━━━━━━━━━❮◆❯━━━━━━━━━━━━━━━━\n",
    "\n",
    "df =pd.DataFrame(df, columns=['real', 'churn'])\n",
    "matrix_cnf =pd.crosstab(df['real'], df['churn'], rownames=['real'], colnames=['churns'])\n",
    "\n",
    "graph =sns.heatmap(matrix_cnf, annot=True)"
   ]
  },
  {
   "cell_type": "code",
   "execution_count": null,
   "metadata": {},
   "outputs": [],
   "source": [
    "#━━━━━━━━━━━━━━━❮◆❯━━━━━━━━━━━━━━━━\n",
    "#        Arrumando Data\n",
    "#━━━━━━━━━━━━━━━❮◆❯━━━━━━━━━━━━━━━━\n",
    "\n",
    "data =str(datetime.date.today())\n",
    "\n",
    "dia =data[8:]\n",
    "mes =data[5:7]\n",
    "ano =data[:4]\n",
    "\n",
    "\n",
    "print('{}/{}/{}'.format(dia, mes,ano))\n",
    "\n",
    "#━━━━━━━━━━━━━━━❮◆❯━━━━━━━━━━━━━━━━\n",
    "#             Relatório\n",
    "#━━━━━━━━━━━━━━━❮◆❯━━━━━━━━━━━━━━━━\n",
    "\n",
    "\n",
    "#━━━━━━━━❮Abrindo Arquivo❯━━━━━━━━━\n",
    "arquivo =Document()\n",
    "#━━━━━━━━━━━━━━━❮◆❯━━━━━━━━━━━━━━━━\n",
    "\n",
    "\n",
    "#━━━━━━━━━━━━━❮Titulo❯━━━━━━━━━━━━━\n",
    "arquivo.add_heading(\"Relatório de Churn                {}/{}/{}\".format(dia, mes,ano), 0)\n",
    "arquivo.add_paragraph('')\n",
    "#━━━━━━━━━━━━━━━❮◆❯━━━━━━━━━━━━━━━━\n",
    "\n",
    "#━━━━━━━━━━━━━❮Briefing❯━━━━━━━━━━━━━\n",
    "\n",
    "arquivo.add_paragraph('Este relatório foi feito de forma automática e visa auxiliar a tomada de decisão em relação a área de vendas e marketing da empresa.')\n",
    "arquivo.add_paragraph('                                                                        Documento realizado pelo software Ragnar, de autoria')\n",
    "\n",
    "#━━━━━━━━❮Análise Gráfica❯━━━━━━━━━\n",
    "arquivo.add_paragraph('────────────────────────────≪✷≫────────────────────────────')\n",
    "arquivo.add_paragraph('')\n",
    "arquivo.add_paragraph('Segundo as análises, quanto mais os clientes continuam na empresa menor a chance de eles deixarem a empresa (churn).')\n",
    "\n",
    "arquivo.add_picture('graph 1.png')\n",
    "#━━━━━━━━━━━━━━━❮◆❯━━━━━━━━━━━━━━━━\n",
    "\n",
    "\n",
    "\n",
    "\n",
    "#━━━━━━━━❮Fechando Arquivo❯━━━━━━━━━\n",
    "arquivo.save('Relatório Churn {}-{}-{}.docx'.format(dia, mes,ano))\n",
    "#━━━━━━━━━━━━━━━❮◆❯━━━━━━━━━━━━━━━━\n",
    "\n",
    "#━━━━━━━━━━━━━━━❮◆❯━━━━━━━━━━━━━━━━\n"
   ]
  }
 ],
 "metadata": {
  "kernelspec": {
   "display_name": "Python 3.9.12 ('base')",
   "language": "python",
   "name": "python3"
  },
  "language_info": {
   "codemirror_mode": {
    "name": "ipython",
    "version": 3
   },
   "file_extension": ".py",
   "mimetype": "text/x-python",
   "name": "python",
   "nbconvert_exporter": "python",
   "pygments_lexer": "ipython3",
   "version": "3.9.12"
  },
  "orig_nbformat": 4,
  "vscode": {
   "interpreter": {
    "hash": "c9b11055aabbe5831bceda66bd7c90480ec32ff2ac7d8efcaa134baa16fe25e4"
   }
  }
 },
 "nbformat": 4,
 "nbformat_minor": 2
}
